{
  "cells": [
    {
      "cell_type": "code",
      "execution_count": 1,
      "metadata": {
        "id": "tjveJhzslCcq"
      },
      "outputs": [],
      "source": [
        "import pandas as pd\n",
        "import numpy as np\n",
        "from sklearn.model_selection import train_test_split, RandomizedSearchCV, cross_val_score\n",
        "from sklearn.linear_model import LinearRegression\n",
        "from sklearn.preprocessing import StandardScaler\n",
        "from sklearn.impute import SimpleImputer\n",
        "from sklearn.ensemble import RandomForestRegressor\n",
        "from sklearn.metrics import mean_squared_error, r2_score\n",
        "import matplotlib.pyplot as plt"
      ]
    },
    {
      "cell_type": "code",
      "execution_count": 2,
      "metadata": {
        "id": "z20Wp0bxlHuK"
      },
      "outputs": [],
      "source": [
        "# Load the data\n",
        "genotypes = pd.read_csv('tomatoes/Genotypic_data_maf10_min10_291acc.txt', index_col=0)\n",
        "phenotype = pd.read_csv('tomatoes/phenodata_BLUP_2012.txt', sep='\\t', index_col='ID')"
      ]
    },
    {
      "cell_type": "code",
      "execution_count": 3,
      "metadata": {
        "id": "3BIAAao2lI7a"
      },
      "outputs": [],
      "source": [
        "# Split the data into training and testing sets\n",
        "X_train, X_test, y_train, y_test = train_test_split(\n",
        "    genotypes, phenotype['FREAR'], test_size=0.2, random_state=42)"
      ]
    },
    {
      "cell_type": "code",
      "execution_count": 4,
      "metadata": {
        "id": "EXesIpYurllK"
      },
      "outputs": [],
      "source": [
        "# Function to calculate minor allele frequency\n",
        "def calculate_maf(df):\n",
        "    maf = df.apply(lambda x: min(x.mean(), 1 - x.mean()), axis=0)\n",
        "    return maf\n",
        "\n",
        "# Function for LD pruning\n",
        "def ld_pruning(df, threshold=0.5):\n",
        "    corr = df.corr().abs()\n",
        "    upper = corr.where(np.triu(np.ones(corr.shape), k=1).astype(bool))  # Updated to use bool\n",
        "    to_drop = [column for column in upper.columns if any(upper[column] > threshold)]\n",
        "    return df.drop(to_drop, axis=1)"
      ]
    },
    {
      "cell_type": "code",
      "execution_count": 5,
      "metadata": {
        "id": "sQd_6u9sr5RR"
      },
      "outputs": [],
      "source": [
        "# Apply MAF and LD pruning only to the training set\n",
        "maf = calculate_maf(X_train)\n",
        "X_train_filtered = X_train.loc[:, maf > 0.05]  # Filter out SNPs with MAF <= 5%\n",
        "X_train_pruned = ld_pruning(X_train_filtered)"
      ]
    },
    {
      "cell_type": "code",
      "execution_count": 6,
      "metadata": {
        "id": "QlYYwklWlVp1"
      },
      "outputs": [],
      "source": [
        "# Impute missing data and scale the data\n",
        "imputer = SimpleImputer(strategy='median')\n",
        "scaler = StandardScaler()\n",
        "\n",
        "X_train_imputed = pd.DataFrame(imputer.fit_transform(X_train_pruned), columns=X_train_pruned.columns)\n",
        "X_train_scaled = pd.DataFrame(scaler.fit_transform(X_train_imputed), columns=X_train_pruned.columns)\n",
        "\n",
        "# Apply the same imputation and scaling transformations to the test set\n",
        "X_test_filtered = X_test[X_train_pruned.columns]  # Keep only the columns that survived pruning\n",
        "X_test_imputed = pd.DataFrame(imputer.transform(X_test_filtered), columns=X_train_pruned.columns)\n",
        "X_test_scaled = pd.DataFrame(scaler.transform(X_test_imputed), columns=X_train_pruned.columns)\n"
      ]
    },
    {
      "cell_type": "code",
      "execution_count": 7,
      "metadata": {
        "colab": {
          "base_uri": "https://localhost:8080/",
          "height": 1000
        },
        "id": "mfomh_YtlYJ5",
        "outputId": "3b34ae7e-4203-4b8b-d379-2d6587abd780"
      },
      "outputs": [
        {
          "name": "stdout",
          "output_type": "stream",
          "text": [
            "Fitting 5 folds for each of 10 candidates, totalling 50 fits\n",
            "[CV] END .....................max_depth=20, n_estimators=100; total time=   0.2s\n",
            "[CV] END .....................max_depth=20, n_estimators=100; total time=   0.2s\n",
            "[CV] END .....................max_depth=20, n_estimators=100; total time=   0.2s\n",
            "[CV] END .....................max_depth=20, n_estimators=100; total time=   0.2s\n",
            "[CV] END .....................max_depth=20, n_estimators=100; total time=   0.2s\n",
            "[CV] END .....................max_depth=30, n_estimators=300; total time=   0.8s\n",
            "[CV] END .....................max_depth=30, n_estimators=300; total time=   0.8s\n",
            "[CV] END .....................max_depth=30, n_estimators=300; total time=   0.8s\n",
            "[CV] END .....................max_depth=30, n_estimators=300; total time=   0.8s\n",
            "[CV] END .....................max_depth=30, n_estimators=300; total time=   0.8s\n",
            "[CV] END .....................max_depth=10, n_estimators=200; total time=   0.4s\n",
            "[CV] END .....................max_depth=10, n_estimators=200; total time=   0.4s\n",
            "[CV] END .....................max_depth=10, n_estimators=200; total time=   0.4s\n",
            "[CV] END .....................max_depth=10, n_estimators=200; total time=   0.4s\n",
            "[CV] END .....................max_depth=10, n_estimators=200; total time=   0.4s\n",
            "[CV] END .....................max_depth=30, n_estimators=200; total time=   0.5s\n",
            "[CV] END .....................max_depth=30, n_estimators=200; total time=   0.6s\n",
            "[CV] END .....................max_depth=30, n_estimators=200; total time=   0.7s\n",
            "[CV] END .....................max_depth=30, n_estimators=200; total time=   0.8s\n",
            "[CV] END .....................max_depth=30, n_estimators=200; total time=   0.6s\n",
            "[CV] END ...................max_depth=None, n_estimators=300; total time=   0.8s\n",
            "[CV] END ...................max_depth=None, n_estimators=300; total time=   0.8s\n",
            "[CV] END ...................max_depth=None, n_estimators=300; total time=   0.8s\n",
            "[CV] END ...................max_depth=None, n_estimators=300; total time=   0.8s\n",
            "[CV] END ...................max_depth=None, n_estimators=300; total time=   0.8s\n",
            "[CV] END .....................max_depth=20, n_estimators=300; total time=   0.8s\n",
            "[CV] END .....................max_depth=20, n_estimators=300; total time=   0.8s\n",
            "[CV] END .....................max_depth=20, n_estimators=300; total time=   0.8s\n",
            "[CV] END .....................max_depth=20, n_estimators=300; total time=   0.8s\n",
            "[CV] END .....................max_depth=20, n_estimators=300; total time=   0.8s\n",
            "[CV] END ...................max_depth=None, n_estimators=200; total time=   0.5s\n",
            "[CV] END ...................max_depth=None, n_estimators=200; total time=   0.5s\n",
            "[CV] END ...................max_depth=None, n_estimators=200; total time=   0.5s\n",
            "[CV] END ...................max_depth=None, n_estimators=200; total time=   0.6s\n",
            "[CV] END ...................max_depth=None, n_estimators=200; total time=   0.5s\n",
            "[CV] END .....................max_depth=20, n_estimators=200; total time=   0.5s\n",
            "[CV] END .....................max_depth=20, n_estimators=200; total time=   0.5s\n",
            "[CV] END .....................max_depth=20, n_estimators=200; total time=   0.5s\n",
            "[CV] END .....................max_depth=20, n_estimators=200; total time=   0.5s\n",
            "[CV] END .....................max_depth=20, n_estimators=200; total time=   0.5s\n",
            "[CV] END .....................max_depth=30, n_estimators=100; total time=   0.2s\n",
            "[CV] END .....................max_depth=30, n_estimators=100; total time=   0.2s\n",
            "[CV] END .....................max_depth=30, n_estimators=100; total time=   0.2s\n",
            "[CV] END .....................max_depth=30, n_estimators=100; total time=   0.2s\n",
            "[CV] END .....................max_depth=30, n_estimators=100; total time=   0.2s\n",
            "[CV] END .....................max_depth=10, n_estimators=100; total time=   0.2s\n",
            "[CV] END .....................max_depth=10, n_estimators=100; total time=   0.2s\n",
            "[CV] END .....................max_depth=10, n_estimators=100; total time=   0.2s\n",
            "[CV] END .....................max_depth=10, n_estimators=100; total time=   0.2s\n",
            "[CV] END .....................max_depth=10, n_estimators=100; total time=   0.2s\n"
          ]
        },
        {
          "data": {
            "text/html": [
              "<style>#sk-container-id-1 {color: black;background-color: white;}#sk-container-id-1 pre{padding: 0;}#sk-container-id-1 div.sk-toggleable {background-color: white;}#sk-container-id-1 label.sk-toggleable__label {cursor: pointer;display: block;width: 100%;margin-bottom: 0;padding: 0.3em;box-sizing: border-box;text-align: center;}#sk-container-id-1 label.sk-toggleable__label-arrow:before {content: \"▸\";float: left;margin-right: 0.25em;color: #696969;}#sk-container-id-1 label.sk-toggleable__label-arrow:hover:before {color: black;}#sk-container-id-1 div.sk-estimator:hover label.sk-toggleable__label-arrow:before {color: black;}#sk-container-id-1 div.sk-toggleable__content {max-height: 0;max-width: 0;overflow: hidden;text-align: left;background-color: #f0f8ff;}#sk-container-id-1 div.sk-toggleable__content pre {margin: 0.2em;color: black;border-radius: 0.25em;background-color: #f0f8ff;}#sk-container-id-1 input.sk-toggleable__control:checked~div.sk-toggleable__content {max-height: 200px;max-width: 100%;overflow: auto;}#sk-container-id-1 input.sk-toggleable__control:checked~label.sk-toggleable__label-arrow:before {content: \"▾\";}#sk-container-id-1 div.sk-estimator input.sk-toggleable__control:checked~label.sk-toggleable__label {background-color: #d4ebff;}#sk-container-id-1 div.sk-label input.sk-toggleable__control:checked~label.sk-toggleable__label {background-color: #d4ebff;}#sk-container-id-1 input.sk-hidden--visually {border: 0;clip: rect(1px 1px 1px 1px);clip: rect(1px, 1px, 1px, 1px);height: 1px;margin: -1px;overflow: hidden;padding: 0;position: absolute;width: 1px;}#sk-container-id-1 div.sk-estimator {font-family: monospace;background-color: #f0f8ff;border: 1px dotted black;border-radius: 0.25em;box-sizing: border-box;margin-bottom: 0.5em;}#sk-container-id-1 div.sk-estimator:hover {background-color: #d4ebff;}#sk-container-id-1 div.sk-parallel-item::after {content: \"\";width: 100%;border-bottom: 1px solid gray;flex-grow: 1;}#sk-container-id-1 div.sk-label:hover label.sk-toggleable__label {background-color: #d4ebff;}#sk-container-id-1 div.sk-serial::before {content: \"\";position: absolute;border-left: 1px solid gray;box-sizing: border-box;top: 0;bottom: 0;left: 50%;z-index: 0;}#sk-container-id-1 div.sk-serial {display: flex;flex-direction: column;align-items: center;background-color: white;padding-right: 0.2em;padding-left: 0.2em;position: relative;}#sk-container-id-1 div.sk-item {position: relative;z-index: 1;}#sk-container-id-1 div.sk-parallel {display: flex;align-items: stretch;justify-content: center;background-color: white;position: relative;}#sk-container-id-1 div.sk-item::before, #sk-container-id-1 div.sk-parallel-item::before {content: \"\";position: absolute;border-left: 1px solid gray;box-sizing: border-box;top: 0;bottom: 0;left: 50%;z-index: -1;}#sk-container-id-1 div.sk-parallel-item {display: flex;flex-direction: column;z-index: 1;position: relative;background-color: white;}#sk-container-id-1 div.sk-parallel-item:first-child::after {align-self: flex-end;width: 50%;}#sk-container-id-1 div.sk-parallel-item:last-child::after {align-self: flex-start;width: 50%;}#sk-container-id-1 div.sk-parallel-item:only-child::after {width: 0;}#sk-container-id-1 div.sk-dashed-wrapped {border: 1px dashed gray;margin: 0 0.4em 0.5em 0.4em;box-sizing: border-box;padding-bottom: 0.4em;background-color: white;}#sk-container-id-1 div.sk-label label {font-family: monospace;font-weight: bold;display: inline-block;line-height: 1.2em;}#sk-container-id-1 div.sk-label-container {text-align: center;}#sk-container-id-1 div.sk-container {/* jupyter's `normalize.less` sets `[hidden] { display: none; }` but bootstrap.min.css set `[hidden] { display: none !important; }` so we also need the `!important` here to be able to override the default hidden behavior on the sphinx rendered scikit-learn.org. See: https://github.com/scikit-learn/scikit-learn/issues/21755 */display: inline-block !important;position: relative;}#sk-container-id-1 div.sk-text-repr-fallback {display: none;}</style><div id=\"sk-container-id-1\" class=\"sk-top-container\"><div class=\"sk-text-repr-fallback\"><pre>RandomizedSearchCV(cv=5, estimator=RandomForestRegressor(random_state=0),\n",
              "                   param_distributions={&#x27;max_depth&#x27;: [None, 10, 20, 30],\n",
              "                                        &#x27;n_estimators&#x27;: [100, 200, 300]},\n",
              "                   random_state=0, verbose=2)</pre><b>In a Jupyter environment, please rerun this cell to show the HTML representation or trust the notebook. <br />On GitHub, the HTML representation is unable to render, please try loading this page with nbviewer.org.</b></div><div class=\"sk-container\" hidden><div class=\"sk-item sk-dashed-wrapped\"><div class=\"sk-label-container\"><div class=\"sk-label sk-toggleable\"><input class=\"sk-toggleable__control sk-hidden--visually\" id=\"sk-estimator-id-1\" type=\"checkbox\" ><label for=\"sk-estimator-id-1\" class=\"sk-toggleable__label sk-toggleable__label-arrow\">RandomizedSearchCV</label><div class=\"sk-toggleable__content\"><pre>RandomizedSearchCV(cv=5, estimator=RandomForestRegressor(random_state=0),\n",
              "                   param_distributions={&#x27;max_depth&#x27;: [None, 10, 20, 30],\n",
              "                                        &#x27;n_estimators&#x27;: [100, 200, 300]},\n",
              "                   random_state=0, verbose=2)</pre></div></div></div><div class=\"sk-parallel\"><div class=\"sk-parallel-item\"><div class=\"sk-item\"><div class=\"sk-label-container\"><div class=\"sk-label sk-toggleable\"><input class=\"sk-toggleable__control sk-hidden--visually\" id=\"sk-estimator-id-2\" type=\"checkbox\" ><label for=\"sk-estimator-id-2\" class=\"sk-toggleable__label sk-toggleable__label-arrow\">estimator: RandomForestRegressor</label><div class=\"sk-toggleable__content\"><pre>RandomForestRegressor(random_state=0)</pre></div></div></div><div class=\"sk-serial\"><div class=\"sk-item\"><div class=\"sk-estimator sk-toggleable\"><input class=\"sk-toggleable__control sk-hidden--visually\" id=\"sk-estimator-id-3\" type=\"checkbox\" ><label for=\"sk-estimator-id-3\" class=\"sk-toggleable__label sk-toggleable__label-arrow\">RandomForestRegressor</label><div class=\"sk-toggleable__content\"><pre>RandomForestRegressor(random_state=0)</pre></div></div></div></div></div></div></div></div></div></div>"
            ],
            "text/plain": [
              "RandomizedSearchCV(cv=5, estimator=RandomForestRegressor(random_state=0),\n",
              "                   param_distributions={'max_depth': [None, 10, 20, 30],\n",
              "                                        'n_estimators': [100, 200, 300]},\n",
              "                   random_state=0, verbose=2)"
            ]
          },
          "execution_count": 7,
          "metadata": {},
          "output_type": "execute_result"
        }
      ],
      "source": [
        "# Random Forest hyperparameters grid for Randomized Search CV\n",
        "rf_params = {\n",
        "    'n_estimators': [100, 200, 300],\n",
        "    'max_depth': [None, 10, 20, 30],\n",
        "}\n",
        "\n",
        "# Randomized search with cross-validation using RandomForestRegressor\n",
        "rf_random_search = RandomizedSearchCV(RandomForestRegressor(random_state=0),\n",
        "                                      rf_params, n_iter=10, cv=5, verbose=2, random_state=0)\n",
        "rf_random_search.fit(X_train_scaled, y_train)\n"
      ]
    },
    {
      "cell_type": "code",
      "execution_count": 8,
      "metadata": {
        "id": "-VODnAKDljCm"
      },
      "outputs": [],
      "source": [
        "# Extracting best estimator and its features\n",
        "best_rf = rf_random_search.best_estimator_\n",
        "selected_features = X_train_scaled.columns[best_rf.feature_importances_ > np.percentile(best_rf.feature_importances_, 75)]"
      ]
    },
    {
      "cell_type": "code",
      "execution_count": 9,
      "metadata": {
        "id": "P4vR7q3KmSy3"
      },
      "outputs": [],
      "source": [
        "# Export selected features\n",
        "pd.Series(selected_features).to_csv('Features_selected/selected_features_random_forest.csv', index=False)"
      ]
    },
    {
      "cell_type": "code",
      "execution_count": 10,
      "metadata": {
        "id": "Y2oy-pBXqy-q"
      },
      "outputs": [],
      "source": [
        "# Using selected features for modeling\n",
        "X_train_selected = X_train_scaled[selected_features]\n",
        "X_test_selected = X_test_scaled[selected_features]"
      ]
    },
    {
      "cell_type": "code",
      "execution_count": 11,
      "metadata": {
        "colab": {
          "base_uri": "https://localhost:8080/",
          "height": 255
        },
        "id": "C95NSZaqq1Nk",
        "outputId": "aac81dc6-420f-48c8-eada-9be0009390ae"
      },
      "outputs": [
        {
          "data": {
            "text/html": [
              "<div>\n",
              "<style scoped>\n",
              "    .dataframe tbody tr th:only-of-type {\n",
              "        vertical-align: middle;\n",
              "    }\n",
              "\n",
              "    .dataframe tbody tr th {\n",
              "        vertical-align: top;\n",
              "    }\n",
              "\n",
              "    .dataframe thead th {\n",
              "        text-align: right;\n",
              "    }\n",
              "</style>\n",
              "<table border=\"1\" class=\"dataframe\">\n",
              "  <thead>\n",
              "    <tr style=\"text-align: right;\">\n",
              "      <th></th>\n",
              "      <th>IIT12528</th>\n",
              "      <th>IIT12147</th>\n",
              "      <th>IIT11292</th>\n",
              "      <th>solcap_snp_sl_60078</th>\n",
              "      <th>solcap_snp_sl_33676</th>\n",
              "      <th>solcap_snp_sl_59771</th>\n",
              "      <th>solcap_snp_sl_50539</th>\n",
              "      <th>solcap_snp_sl_16331</th>\n",
              "      <th>IIT11440</th>\n",
              "      <th>IIT9961</th>\n",
              "      <th>...</th>\n",
              "      <th>solcap_snp_sl_55518</th>\n",
              "      <th>solcap_snp_sl_7025</th>\n",
              "      <th>solcap_snp_sl_15381</th>\n",
              "      <th>solcap_snp_sl_10190</th>\n",
              "      <th>IIT7761</th>\n",
              "      <th>solcap_snp_sl_17547</th>\n",
              "      <th>IIT9900</th>\n",
              "      <th>solcap_snp_sl_9790</th>\n",
              "      <th>IIT9983</th>\n",
              "      <th>solcap_snp_sl_31975</th>\n",
              "    </tr>\n",
              "  </thead>\n",
              "  <tbody>\n",
              "    <tr>\n",
              "      <th>0</th>\n",
              "      <td>-1.015593</td>\n",
              "      <td>-0.615328</td>\n",
              "      <td>-0.586011</td>\n",
              "      <td>2.659013</td>\n",
              "      <td>1.971164</td>\n",
              "      <td>-0.430445</td>\n",
              "      <td>0.076029</td>\n",
              "      <td>-0.530954</td>\n",
              "      <td>-0.504187</td>\n",
              "      <td>1.674410</td>\n",
              "      <td>...</td>\n",
              "      <td>-0.715661</td>\n",
              "      <td>1.310053</td>\n",
              "      <td>-0.561041</td>\n",
              "      <td>2.081705</td>\n",
              "      <td>2.333333</td>\n",
              "      <td>-0.976803</td>\n",
              "      <td>-0.547498</td>\n",
              "      <td>-0.451359</td>\n",
              "      <td>-0.43914</td>\n",
              "      <td>-0.415339</td>\n",
              "    </tr>\n",
              "    <tr>\n",
              "      <th>1</th>\n",
              "      <td>1.024386</td>\n",
              "      <td>-0.615328</td>\n",
              "      <td>-0.586011</td>\n",
              "      <td>-0.387362</td>\n",
              "      <td>-0.527798</td>\n",
              "      <td>-0.430445</td>\n",
              "      <td>0.076029</td>\n",
              "      <td>1.932674</td>\n",
              "      <td>0.767241</td>\n",
              "      <td>-0.610667</td>\n",
              "      <td>...</td>\n",
              "      <td>1.543296</td>\n",
              "      <td>-0.815348</td>\n",
              "      <td>-0.561041</td>\n",
              "      <td>-0.487208</td>\n",
              "      <td>-0.428571</td>\n",
              "      <td>-0.976803</td>\n",
              "      <td>1.849099</td>\n",
              "      <td>-0.451359</td>\n",
              "      <td>-0.43914</td>\n",
              "      <td>-0.415339</td>\n",
              "    </tr>\n",
              "    <tr>\n",
              "      <th>2</th>\n",
              "      <td>1.024386</td>\n",
              "      <td>-0.615328</td>\n",
              "      <td>-0.586011</td>\n",
              "      <td>-0.387362</td>\n",
              "      <td>1.971164</td>\n",
              "      <td>-0.430445</td>\n",
              "      <td>0.076029</td>\n",
              "      <td>1.932674</td>\n",
              "      <td>2.038670</td>\n",
              "      <td>-0.610667</td>\n",
              "      <td>...</td>\n",
              "      <td>1.543296</td>\n",
              "      <td>-0.815348</td>\n",
              "      <td>1.849357</td>\n",
              "      <td>-0.487208</td>\n",
              "      <td>-0.428571</td>\n",
              "      <td>-0.976803</td>\n",
              "      <td>-0.547498</td>\n",
              "      <td>-0.451359</td>\n",
              "      <td>-0.43914</td>\n",
              "      <td>-0.415339</td>\n",
              "    </tr>\n",
              "    <tr>\n",
              "      <th>3</th>\n",
              "      <td>1.024386</td>\n",
              "      <td>-0.615328</td>\n",
              "      <td>-0.586011</td>\n",
              "      <td>-0.387362</td>\n",
              "      <td>-0.527798</td>\n",
              "      <td>-0.430445</td>\n",
              "      <td>0.076029</td>\n",
              "      <td>1.932674</td>\n",
              "      <td>-0.504187</td>\n",
              "      <td>1.674410</td>\n",
              "      <td>...</td>\n",
              "      <td>-0.715661</td>\n",
              "      <td>1.310053</td>\n",
              "      <td>-0.561041</td>\n",
              "      <td>2.081705</td>\n",
              "      <td>-0.428571</td>\n",
              "      <td>1.055648</td>\n",
              "      <td>1.849099</td>\n",
              "      <td>-0.451359</td>\n",
              "      <td>-0.43914</td>\n",
              "      <td>2.595871</td>\n",
              "    </tr>\n",
              "    <tr>\n",
              "      <th>4</th>\n",
              "      <td>-1.015593</td>\n",
              "      <td>-0.615328</td>\n",
              "      <td>-0.586011</td>\n",
              "      <td>-0.387362</td>\n",
              "      <td>-0.527798</td>\n",
              "      <td>-0.430445</td>\n",
              "      <td>2.280858</td>\n",
              "      <td>-0.530954</td>\n",
              "      <td>-0.504187</td>\n",
              "      <td>-0.610667</td>\n",
              "      <td>...</td>\n",
              "      <td>-0.715661</td>\n",
              "      <td>1.310053</td>\n",
              "      <td>-0.561041</td>\n",
              "      <td>-0.487208</td>\n",
              "      <td>-0.428571</td>\n",
              "      <td>-0.976803</td>\n",
              "      <td>-0.547498</td>\n",
              "      <td>-0.451359</td>\n",
              "      <td>-0.43914</td>\n",
              "      <td>-0.415339</td>\n",
              "    </tr>\n",
              "  </tbody>\n",
              "</table>\n",
              "<p>5 rows × 43 columns</p>\n",
              "</div>"
            ],
            "text/plain": [
              "   IIT12528  IIT12147  IIT11292  solcap_snp_sl_60078  solcap_snp_sl_33676  \\\n",
              "0 -1.015593 -0.615328 -0.586011             2.659013             1.971164   \n",
              "1  1.024386 -0.615328 -0.586011            -0.387362            -0.527798   \n",
              "2  1.024386 -0.615328 -0.586011            -0.387362             1.971164   \n",
              "3  1.024386 -0.615328 -0.586011            -0.387362            -0.527798   \n",
              "4 -1.015593 -0.615328 -0.586011            -0.387362            -0.527798   \n",
              "\n",
              "   solcap_snp_sl_59771  solcap_snp_sl_50539  solcap_snp_sl_16331  IIT11440  \\\n",
              "0            -0.430445             0.076029            -0.530954 -0.504187   \n",
              "1            -0.430445             0.076029             1.932674  0.767241   \n",
              "2            -0.430445             0.076029             1.932674  2.038670   \n",
              "3            -0.430445             0.076029             1.932674 -0.504187   \n",
              "4            -0.430445             2.280858            -0.530954 -0.504187   \n",
              "\n",
              "    IIT9961  ...  solcap_snp_sl_55518  solcap_snp_sl_7025  \\\n",
              "0  1.674410  ...            -0.715661            1.310053   \n",
              "1 -0.610667  ...             1.543296           -0.815348   \n",
              "2 -0.610667  ...             1.543296           -0.815348   \n",
              "3  1.674410  ...            -0.715661            1.310053   \n",
              "4 -0.610667  ...            -0.715661            1.310053   \n",
              "\n",
              "   solcap_snp_sl_15381  solcap_snp_sl_10190   IIT7761  solcap_snp_sl_17547  \\\n",
              "0            -0.561041             2.081705  2.333333            -0.976803   \n",
              "1            -0.561041            -0.487208 -0.428571            -0.976803   \n",
              "2             1.849357            -0.487208 -0.428571            -0.976803   \n",
              "3            -0.561041             2.081705 -0.428571             1.055648   \n",
              "4            -0.561041            -0.487208 -0.428571            -0.976803   \n",
              "\n",
              "    IIT9900  solcap_snp_sl_9790  IIT9983  solcap_snp_sl_31975  \n",
              "0 -0.547498           -0.451359 -0.43914            -0.415339  \n",
              "1  1.849099           -0.451359 -0.43914            -0.415339  \n",
              "2 -0.547498           -0.451359 -0.43914            -0.415339  \n",
              "3  1.849099           -0.451359 -0.43914             2.595871  \n",
              "4 -0.547498           -0.451359 -0.43914            -0.415339  \n",
              "\n",
              "[5 rows x 43 columns]"
            ]
          },
          "execution_count": 11,
          "metadata": {},
          "output_type": "execute_result"
        }
      ],
      "source": [
        "X_train_selected.head()"
      ]
    },
    {
      "cell_type": "code",
      "execution_count": 12,
      "metadata": {
        "id": "bNiiSq4quI3x"
      },
      "outputs": [],
      "source": [
        "# Linear regression with cross-validation\n",
        "regressor = LinearRegression()\n",
        "cv_scores = cross_val_score(regressor, X_train_selected, y_train, cv=5, scoring='neg_mean_squared_error')\n",
        "regressor.fit(X_train_selected, y_train)\n",
        "y_pred = regressor.predict(X_test_selected)\n"
      ]
    },
    {
      "cell_type": "code",
      "execution_count": 13,
      "metadata": {
        "colab": {
          "base_uri": "https://localhost:8080/"
        },
        "id": "F4ICo6ffuQVR",
        "outputId": "a6856af0-a3fd-446e-f6e4-bed845157b86"
      },
      "outputs": [
        {
          "name": "stdout",
          "output_type": "stream",
          "text": [
            "Test RMSE: 2.1685824665879996\n",
            "Test R²: 0.33580323097887044\n",
            "Cross-Validated RMSE: 2.3072873857687157\n"
          ]
        }
      ],
      "source": [
        "# Calculate RMSE and R-squared\n",
        "rmse = np.sqrt(mean_squared_error(y_test, y_pred))\n",
        "r2 = r2_score(y_test, y_pred)\n",
        "mean_cv_rmse = np.sqrt(-cv_scores.mean())\n",
        "\n",
        "print(f'Test RMSE: {rmse}')\n",
        "print(f'Test R²: {r2}')\n",
        "print(f'Cross-Validated RMSE: {mean_cv_rmse}')\n"
      ]
    },
    {
      "cell_type": "code",
      "execution_count": 14,
      "metadata": {
        "colab": {
          "base_uri": "https://localhost:8080/",
          "height": 976
        },
        "id": "4t8YmE6XuVH7",
        "outputId": "af43fdd4-a998-43e9-e221-1b785dcb7009"
      },
      "outputs": [
        {
          "data": {
            "image/png": "[encoded data removed]",
            "text/plain": [
              "<Figure size 720x360 with 1 Axes>"
            ]
          },
          "metadata": {
            "needs_background": "light"
          },
          "output_type": "display_data"
        },
        {
          "data": {
            "image/png": "[encoded data removed]",
            "text/plain": [
              "<Figure size 720x360 with 1 Axes>"
            ]
          },
          "metadata": {
            "needs_background": "light"
          },
          "output_type": "display_data"
        }
      ],
      "source": [
        "# Visualization of predictions vs. actual\n",
        "plt.figure(figsize=(10, 5))\n",
        "plt.scatter(y_test, y_pred, alpha=0.5)\n",
        "plt.plot([y_test.min(), y_test.max()], [y_test.min(), y_test.max()], 'k--', lw=2)\n",
        "plt.xlabel('Measured')\n",
        "plt.ylabel('Predicted')\n",
        "plt.title('Predictions vs. Actual Values')\n",
        "plt.show()\n",
        "\n",
        "# Assuming 'best_rf' is your trained RandomForestRegressor model\n",
        "importances = best_rf.feature_importances_\n",
        "# Extract the indices of the selected features from the full feature set\n",
        "selected_indices = [list(X_train_scaled.columns).index(feature) for feature in selected_features]\n",
        "\n",
        "# Filter the importances to only those that are selected\n",
        "selected_importances = importances[selected_indices]\n",
        "\n",
        "# Get the sorted indices of the selected importances\n",
        "sorted_indices = np.argsort(selected_importances)[::-1]\n",
        "\n",
        "# Plotting\n",
        "plt.figure(figsize=(10, 5))\n",
        "plt.title('Feature Importances')\n",
        "plt.bar(range(len(selected_features)), selected_importances[sorted_indices], color=\"r\", align=\"center\")\n",
        "plt.xticks(range(len(selected_features)), np.array(selected_features)[sorted_indices], rotation=90)\n",
        "plt.xlim([-1, len(selected_features)])\n",
        "plt.tight_layout()  # Adjust layout to make room for rotated x-axis labels\n",
        "plt.show()\n"
      ]
    }
  ],
  "metadata": {
    "colab": {
      "provenance": []
    },
    "kernelspec": {
      "display_name": "Python 3.10.11 64-bit (microsoft store)",
      "language": "python",
      "name": "python3"
    },
    "language_info": {
      "codemirror_mode": {
        "name": "ipython",
        "version": 3
      },
      "file_extension": ".py",
      "mimetype": "text/x-python",
      "name": "python",
      "nbconvert_exporter": "python",
      "pygments_lexer": "ipython3",
      "version": "3.10.11"
    },
    "vscode": {
      "interpreter": {
        "hash": "3b7e9cb8e453d6cda0fe8c8dd13f891a1f09162f0e7c66ffeae7751a7aecf00d"
      }
    }
  },
  "nbformat": 4,
  "nbformat_minor": 0
}
