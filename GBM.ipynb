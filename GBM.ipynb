{
  "cells": [
    {
      "cell_type": "code",
      "execution_count": 3,
      "metadata": {
        "id": "tjveJhzslCcq"
      },
      "outputs": [],
      "source": [
        "import pandas as pd\n",
        "import numpy as np\n",
        "from sklearn.model_selection import train_test_split, RandomizedSearchCV\n",
        "from sklearn.preprocessing import StandardScaler\n",
        "from sklearn.impute import SimpleImputer\n",
        "from sklearn.ensemble import GradientBoostingRegressor\n",
        "from sklearn.metrics import mean_squared_error, r2_score\n",
        "import matplotlib.pyplot as plt\n",
        "from sklearn.linear_model import LinearRegression"
      ]
    },
    {
      "cell_type": "code",
      "execution_count": 4,
      "metadata": {
        "id": "z20Wp0bxlHuK"
      },
      "outputs": [],
      "source": [
        "# Load the data\n",
        "genotypes = pd.read_csv('tomatoes/Genotypic_data_maf10_min10_291acc.txt', index_col=0)\n",
        "phenotype = pd.read_csv('tomatoes/phenodata_BLUP_2012.txt', sep='\\t', index_col='ID')"
      ]
    },
    {
      "cell_type": "code",
      "execution_count": 5,
      "metadata": {
        "id": "3BIAAao2lI7a"
      },
      "outputs": [],
      "source": [
        "# Split the data into training and testing sets\n",
        "X_train, X_test, y_train, y_test = train_test_split(\n",
        "    genotypes, phenotype['FREAR'], test_size=0.2, random_state=42)"
      ]
    },
    {
      "cell_type": "code",
      "execution_count": 6,
      "metadata": {
        "id": "EXesIpYurllK"
      },
      "outputs": [],
      "source": [
        "# Function to calculate minor allele frequency\n",
        "def calculate_maf(df):\n",
        "    maf = df.apply(lambda x: min(x.mean(), 1 - x.mean()), axis=0)\n",
        "    return maf\n",
        "\n",
        "# Function for LD pruning\n",
        "def ld_pruning(df, threshold=0.5):\n",
        "    corr = df.corr().abs()\n",
        "    upper = corr.where(np.triu(np.ones(corr.shape), k=1).astype(bool))  # Updated to use bool\n",
        "    to_drop = [column for column in upper.columns if any(upper[column] > threshold)]\n",
        "    return df.drop(to_drop, axis=1)"
      ]
    },
    {
      "cell_type": "code",
      "execution_count": 7,
      "metadata": {
        "id": "sQd_6u9sr5RR"
      },
      "outputs": [],
      "source": [
        "# Apply MAF and LD pruning only to the training set\n",
        "maf = calculate_maf(X_train)\n",
        "X_train_filtered = X_train.loc[:, maf > 0.05]  # Filter out SNPs with MAF <= 5%\n",
        "X_train_pruned = ld_pruning(X_train_filtered)"
      ]
    },
    {
      "cell_type": "code",
      "execution_count": 8,
      "metadata": {
        "id": "QlYYwklWlVp1"
      },
      "outputs": [],
      "source": [
        "# Impute missing data and scale the data\n",
        "imputer = SimpleImputer(strategy='median')\n",
        "scaler = StandardScaler()\n",
        "\n",
        "X_train_imputed = pd.DataFrame(imputer.fit_transform(X_train_pruned), columns=X_train_pruned.columns)\n",
        "X_train_scaled = pd.DataFrame(scaler.fit_transform(X_train_imputed), columns=X_train_pruned.columns)\n",
        "\n",
        "# Apply the same imputation and scaling transformations to the test set\n",
        "X_test_filtered = X_test[X_train_pruned.columns]  # Keep only the columns that survived pruning\n",
        "X_test_imputed = pd.DataFrame(imputer.transform(X_test_filtered), columns=X_train_pruned.columns)\n",
        "X_test_scaled = pd.DataFrame(scaler.transform(X_test_imputed), columns=X_train_pruned.columns)"
      ]
    },
    {
      "cell_type": "code",
      "execution_count": 9,
      "metadata": {
        "colab": {
          "base_uri": "https://localhost:8080/",
          "height": 1000
        },
        "id": "9FTtCgGJ7iwk",
        "outputId": "d6a8989e-9ec7-4daa-9a33-826a323190d4"
      },
      "outputs": [
        {
          "name": "stdout",
          "output_type": "stream",
          "text": [
            "Fitting 5 folds for each of 50 candidates, totalling 250 fits\n",
            "[CV] END ...learning_rate=0.1, max_depth=5, n_estimators=200; total time=   0.2s\n",
            "[CV] END ...learning_rate=0.1, max_depth=5, n_estimators=200; total time=   0.2s\n",
            "[CV] END ...learning_rate=0.1, max_depth=5, n_estimators=200; total time=   0.2s\n",
            "[CV] END ...learning_rate=0.1, max_depth=5, n_estimators=200; total time=   0.2s\n",
            "[CV] END ...learning_rate=0.1, max_depth=5, n_estimators=200; total time=   0.2s\n",
            "[CV] END learning_rate=0.1, max_depth=None, n_estimators=100; total time=   0.3s\n",
            "[CV] END learning_rate=0.1, max_depth=None, n_estimators=100; total time=   0.3s\n",
            "[CV] END learning_rate=0.1, max_depth=None, n_estimators=100; total time=   0.4s\n",
            "[CV] END learning_rate=0.1, max_depth=None, n_estimators=100; total time=   0.3s\n",
            "[CV] END learning_rate=0.1, max_depth=None, n_estimators=100; total time=   0.3s\n",
            "[CV] END learning_rate=0.2, max_depth=None, n_estimators=500; total time=   0.3s\n",
            "[CV] END learning_rate=0.2, max_depth=None, n_estimators=500; total time=   0.3s\n",
            "[CV] END learning_rate=0.2, max_depth=None, n_estimators=500; total time=   0.3s\n",
            "[CV] END learning_rate=0.2, max_depth=None, n_estimators=500; total time=   0.3s\n",
            "[CV] END learning_rate=0.2, max_depth=None, n_estimators=500; total time=   0.3s\n",
            "[CV] END ...learning_rate=0.1, max_depth=5, n_estimators=400; total time=   0.5s\n",
            "[CV] END ...learning_rate=0.1, max_depth=5, n_estimators=400; total time=   0.5s\n",
            "[CV] END ...learning_rate=0.1, max_depth=5, n_estimators=400; total time=   0.5s\n",
            "[CV] END ...learning_rate=0.1, max_depth=5, n_estimators=400; total time=   0.5s\n",
            "[CV] END ...learning_rate=0.1, max_depth=5, n_estimators=400; total time=   0.5s\n",
            "[CV] END .learning_rate=0.01, max_depth=10, n_estimators=200; total time=   0.5s\n",
            "[CV] END .learning_rate=0.01, max_depth=10, n_estimators=200; total time=   0.6s\n",
            "[CV] END .learning_rate=0.01, max_depth=10, n_estimators=200; total time=   0.6s\n",
            "[CV] END .learning_rate=0.01, max_depth=10, n_estimators=200; total time=   0.5s\n",
            "[CV] END .learning_rate=0.01, max_depth=10, n_estimators=200; total time=   0.5s\n",
            "[CV] END ..learning_rate=0.01, max_depth=3, n_estimators=300; total time=   0.2s\n",
            "[CV] END ..learning_rate=0.01, max_depth=3, n_estimators=300; total time=   0.2s\n",
            "[CV] END ..learning_rate=0.01, max_depth=3, n_estimators=300; total time=   0.3s\n",
            "[CV] END ..learning_rate=0.01, max_depth=3, n_estimators=300; total time=   0.2s\n",
            "[CV] END ..learning_rate=0.01, max_depth=3, n_estimators=300; total time=   0.3s\n",
            "[CV] END ..learning_rate=0.1, max_depth=10, n_estimators=500; total time=   0.9s\n",
            "[CV] END ..learning_rate=0.1, max_depth=10, n_estimators=500; total time=   0.8s\n",
            "[CV] END ..learning_rate=0.1, max_depth=10, n_estimators=500; total time=   0.7s\n",
            "[CV] END ..learning_rate=0.1, max_depth=10, n_estimators=500; total time=   0.8s\n",
            "[CV] END ..learning_rate=0.1, max_depth=10, n_estimators=500; total time=   0.8s\n",
            "[CV] END learning_rate=0.2, max_depth=None, n_estimators=400; total time=   0.3s\n",
            "[CV] END learning_rate=0.2, max_depth=None, n_estimators=400; total time=   0.3s\n",
            "[CV] END learning_rate=0.2, max_depth=None, n_estimators=400; total time=   0.3s\n",
            "[CV] END learning_rate=0.2, max_depth=None, n_estimators=400; total time=   0.3s\n",
            "[CV] END learning_rate=0.2, max_depth=None, n_estimators=400; total time=   0.3s\n",
            "[CV] END ...learning_rate=0.2, max_depth=3, n_estimators=100; total time=   0.0s\n",
            "[CV] END ...learning_rate=0.2, max_depth=3, n_estimators=100; total time=   0.0s\n",
            "[CV] END ...learning_rate=0.2, max_depth=3, n_estimators=100; total time=   0.0s\n",
            "[CV] END ...learning_rate=0.2, max_depth=3, n_estimators=100; total time=   0.0s\n",
            "[CV] END ...learning_rate=0.2, max_depth=3, n_estimators=100; total time=   0.0s\n",
            "[CV] END ...learning_rate=0.1, max_depth=3, n_estimators=300; total time=   0.3s\n",
            "[CV] END ...learning_rate=0.1, max_depth=3, n_estimators=300; total time=   0.2s\n",
            "[CV] END ...learning_rate=0.1, max_depth=3, n_estimators=300; total time=   0.2s\n",
            "[CV] END ...learning_rate=0.1, max_depth=3, n_estimators=300; total time=   0.3s\n",
            "[CV] END ...learning_rate=0.1, max_depth=3, n_estimators=300; total time=   0.3s\n",
            "[CV] END ..learning_rate=0.01, max_depth=3, n_estimators=500; total time=   0.5s\n",
            "[CV] END ..learning_rate=0.01, max_depth=3, n_estimators=500; total time=   0.5s\n",
            "[CV] END ..learning_rate=0.01, max_depth=3, n_estimators=500; total time=   0.5s\n",
            "[CV] END ..learning_rate=0.01, max_depth=3, n_estimators=500; total time=   0.5s\n",
            "[CV] END ..learning_rate=0.01, max_depth=3, n_estimators=500; total time=   0.5s\n",
            "[CV] END .learning_rate=0.01, max_depth=10, n_estimators=100; total time=   0.3s\n",
            "[CV] END .learning_rate=0.01, max_depth=10, n_estimators=100; total time=   0.3s\n",
            "[CV] END .learning_rate=0.01, max_depth=10, n_estimators=100; total time=   0.3s\n",
            "[CV] END .learning_rate=0.01, max_depth=10, n_estimators=100; total time=   0.3s\n",
            "[CV] END .learning_rate=0.01, max_depth=10, n_estimators=100; total time=   0.3s\n",
            "[CV] END ..learning_rate=0.1, max_depth=10, n_estimators=100; total time=   0.3s\n",
            "[CV] END ..learning_rate=0.1, max_depth=10, n_estimators=100; total time=   0.3s\n",
            "[CV] END ..learning_rate=0.1, max_depth=10, n_estimators=100; total time=   0.3s\n",
            "[CV] END ..learning_rate=0.1, max_depth=10, n_estimators=100; total time=   0.3s\n",
            "[CV] END ..learning_rate=0.1, max_depth=10, n_estimators=100; total time=   0.3s\n",
            "[CV] END ...learning_rate=0.2, max_depth=3, n_estimators=200; total time=   0.2s\n",
            "[CV] END ...learning_rate=0.2, max_depth=3, n_estimators=200; total time=   0.2s\n",
            "[CV] END ...learning_rate=0.2, max_depth=3, n_estimators=200; total time=   0.2s\n",
            "[CV] END ...learning_rate=0.2, max_depth=3, n_estimators=200; total time=   0.2s\n",
            "[CV] END ...learning_rate=0.2, max_depth=3, n_estimators=200; total time=   0.2s\n",
            "[CV] END ..learning_rate=0.1, max_depth=10, n_estimators=400; total time=   1.1s\n",
            "[CV] END ..learning_rate=0.1, max_depth=10, n_estimators=400; total time=   0.8s\n",
            "[CV] END ..learning_rate=0.1, max_depth=10, n_estimators=400; total time=   0.7s\n",
            "[CV] END ..learning_rate=0.1, max_depth=10, n_estimators=400; total time=   0.6s\n",
            "[CV] END ..learning_rate=0.1, max_depth=10, n_estimators=400; total time=   0.7s\n",
            "[CV] END ...learning_rate=0.2, max_depth=3, n_estimators=400; total time=   0.3s\n",
            "[CV] END ...learning_rate=0.2, max_depth=3, n_estimators=400; total time=   0.3s\n",
            "[CV] END ...learning_rate=0.2, max_depth=3, n_estimators=400; total time=   0.3s\n",
            "[CV] END ...learning_rate=0.2, max_depth=3, n_estimators=400; total time=   0.3s\n",
            "[CV] END ...learning_rate=0.2, max_depth=3, n_estimators=400; total time=   0.3s\n",
            "[CV] END ...learning_rate=0.2, max_depth=5, n_estimators=500; total time=   0.5s\n",
            "[CV] END ...learning_rate=0.2, max_depth=5, n_estimators=500; total time=   0.5s\n",
            "[CV] END ...learning_rate=0.2, max_depth=5, n_estimators=500; total time=   0.5s\n",
            "[CV] END ...learning_rate=0.2, max_depth=5, n_estimators=500; total time=   0.6s\n",
            "[CV] END ...learning_rate=0.2, max_depth=5, n_estimators=500; total time=   0.6s\n",
            "[CV] END ..learning_rate=0.01, max_depth=5, n_estimators=300; total time=   0.4s\n",
            "[CV] END ..learning_rate=0.01, max_depth=5, n_estimators=300; total time=   0.4s\n",
            "[CV] END ..learning_rate=0.01, max_depth=5, n_estimators=300; total time=   0.4s\n",
            "[CV] END ..learning_rate=0.01, max_depth=5, n_estimators=300; total time=   0.4s\n",
            "[CV] END ..learning_rate=0.01, max_depth=5, n_estimators=300; total time=   0.4s\n",
            "[CV] END .learning_rate=0.01, max_depth=10, n_estimators=500; total time=   1.4s\n",
            "[CV] END .learning_rate=0.01, max_depth=10, n_estimators=500; total time=   1.5s\n",
            "[CV] END .learning_rate=0.01, max_depth=10, n_estimators=500; total time=   1.5s\n",
            "[CV] END .learning_rate=0.01, max_depth=10, n_estimators=500; total time=   1.5s\n",
            "[CV] END .learning_rate=0.01, max_depth=10, n_estimators=500; total time=   1.4s\n",
            "[CV] END ..learning_rate=0.1, max_depth=10, n_estimators=300; total time=   0.6s\n",
            "[CV] END ..learning_rate=0.1, max_depth=10, n_estimators=300; total time=   0.6s\n",
            "[CV] END ..learning_rate=0.1, max_depth=10, n_estimators=300; total time=   0.5s\n",
            "[CV] END ..learning_rate=0.1, max_depth=10, n_estimators=300; total time=   0.6s\n",
            "[CV] END ..learning_rate=0.1, max_depth=10, n_estimators=300; total time=   0.6s\n",
            "[CV] END ..learning_rate=0.2, max_depth=10, n_estimators=100; total time=   0.2s\n",
            "[CV] END ..learning_rate=0.2, max_depth=10, n_estimators=100; total time=   0.2s\n",
            "[CV] END ..learning_rate=0.2, max_depth=10, n_estimators=100; total time=   0.2s\n",
            "[CV] END ..learning_rate=0.2, max_depth=10, n_estimators=100; total time=   0.2s\n",
            "[CV] END ..learning_rate=0.2, max_depth=10, n_estimators=100; total time=   0.2s\n",
            "[CV] END ...learning_rate=0.1, max_depth=5, n_estimators=500; total time=   0.7s\n",
            "[CV] END ...learning_rate=0.1, max_depth=5, n_estimators=500; total time=   0.7s\n",
            "[CV] END ...learning_rate=0.1, max_depth=5, n_estimators=500; total time=   0.7s\n",
            "[CV] END ...learning_rate=0.1, max_depth=5, n_estimators=500; total time=   0.7s\n",
            "[CV] END ...learning_rate=0.1, max_depth=5, n_estimators=500; total time=   0.7s\n",
            "[CV] END ...learning_rate=0.2, max_depth=3, n_estimators=300; total time=   0.2s\n",
            "[CV] END ...learning_rate=0.2, max_depth=3, n_estimators=300; total time=   0.2s\n",
            "[CV] END ...learning_rate=0.2, max_depth=3, n_estimators=300; total time=   0.2s\n",
            "[CV] END ...learning_rate=0.2, max_depth=3, n_estimators=300; total time=   0.2s\n",
            "[CV] END ...learning_rate=0.2, max_depth=3, n_estimators=300; total time=   0.2s\n",
            "[CV] END ..learning_rate=0.2, max_depth=10, n_estimators=500; total time=   0.3s\n",
            "[CV] END ..learning_rate=0.2, max_depth=10, n_estimators=500; total time=   0.3s\n",
            "[CV] END ..learning_rate=0.2, max_depth=10, n_estimators=500; total time=   0.3s\n",
            "[CV] END ..learning_rate=0.2, max_depth=10, n_estimators=500; total time=   0.3s\n",
            "[CV] END ..learning_rate=0.2, max_depth=10, n_estimators=500; total time=   0.3s\n",
            "[CV] END learning_rate=0.01, max_depth=None, n_estimators=400; total time=   1.3s\n",
            "[CV] END learning_rate=0.01, max_depth=None, n_estimators=400; total time=   1.3s\n",
            "[CV] END learning_rate=0.01, max_depth=None, n_estimators=400; total time=   1.4s\n",
            "[CV] END learning_rate=0.01, max_depth=None, n_estimators=400; total time=   1.4s\n",
            "[CV] END learning_rate=0.01, max_depth=None, n_estimators=400; total time=   1.5s\n",
            "[CV] END learning_rate=0.2, max_depth=None, n_estimators=200; total time=   0.2s\n",
            "[CV] END learning_rate=0.2, max_depth=None, n_estimators=200; total time=   0.2s\n",
            "[CV] END learning_rate=0.2, max_depth=None, n_estimators=200; total time=   0.2s\n",
            "[CV] END learning_rate=0.2, max_depth=None, n_estimators=200; total time=   0.3s\n",
            "[CV] END learning_rate=0.2, max_depth=None, n_estimators=200; total time=   0.3s\n",
            "[CV] END ...learning_rate=0.1, max_depth=5, n_estimators=300; total time=   0.5s\n",
            "[CV] END ...learning_rate=0.1, max_depth=5, n_estimators=300; total time=   0.5s\n",
            "[CV] END ...learning_rate=0.1, max_depth=5, n_estimators=300; total time=   0.5s\n",
            "[CV] END ...learning_rate=0.1, max_depth=5, n_estimators=300; total time=   0.4s\n",
            "[CV] END ...learning_rate=0.1, max_depth=5, n_estimators=300; total time=   0.4s\n",
            "[CV] END learning_rate=0.01, max_depth=None, n_estimators=100; total time=   0.3s\n",
            "[CV] END learning_rate=0.01, max_depth=None, n_estimators=100; total time=   0.3s\n",
            "[CV] END learning_rate=0.01, max_depth=None, n_estimators=100; total time=   0.3s\n",
            "[CV] END learning_rate=0.01, max_depth=None, n_estimators=100; total time=   0.3s\n",
            "[CV] END learning_rate=0.01, max_depth=None, n_estimators=100; total time=   0.3s\n",
            "[CV] END ..learning_rate=0.01, max_depth=5, n_estimators=100; total time=   0.1s\n",
            "[CV] END ..learning_rate=0.01, max_depth=5, n_estimators=100; total time=   0.1s\n",
            "[CV] END ..learning_rate=0.01, max_depth=5, n_estimators=100; total time=   0.1s\n",
            "[CV] END ..learning_rate=0.01, max_depth=5, n_estimators=100; total time=   0.1s\n",
            "[CV] END ..learning_rate=0.01, max_depth=5, n_estimators=100; total time=   0.1s\n",
            "[CV] END ..learning_rate=0.1, max_depth=10, n_estimators=200; total time=   0.6s\n",
            "[CV] END ..learning_rate=0.1, max_depth=10, n_estimators=200; total time=   0.5s\n",
            "[CV] END ..learning_rate=0.1, max_depth=10, n_estimators=200; total time=   0.5s\n",
            "[CV] END ..learning_rate=0.1, max_depth=10, n_estimators=200; total time=   0.5s\n",
            "[CV] END ..learning_rate=0.1, max_depth=10, n_estimators=200; total time=   0.5s\n",
            "[CV] END learning_rate=0.01, max_depth=None, n_estimators=200; total time=   0.6s\n",
            "[CV] END learning_rate=0.01, max_depth=None, n_estimators=200; total time=   0.6s\n",
            "[CV] END learning_rate=0.01, max_depth=None, n_estimators=200; total time=   0.6s\n",
            "[CV] END learning_rate=0.01, max_depth=None, n_estimators=200; total time=   0.6s\n",
            "[CV] END learning_rate=0.01, max_depth=None, n_estimators=200; total time=   0.6s\n",
            "[CV] END ..learning_rate=0.2, max_depth=10, n_estimators=200; total time=   0.3s\n",
            "[CV] END ..learning_rate=0.2, max_depth=10, n_estimators=200; total time=   0.2s\n",
            "[CV] END ..learning_rate=0.2, max_depth=10, n_estimators=200; total time=   0.3s\n",
            "[CV] END ..learning_rate=0.2, max_depth=10, n_estimators=200; total time=   0.3s\n",
            "[CV] END ..learning_rate=0.2, max_depth=10, n_estimators=200; total time=   0.2s\n",
            "[CV] END ...learning_rate=0.1, max_depth=3, n_estimators=100; total time=   0.0s\n",
            "[CV] END ...learning_rate=0.1, max_depth=3, n_estimators=100; total time=   0.0s\n",
            "[CV] END ...learning_rate=0.1, max_depth=3, n_estimators=100; total time=   0.0s\n",
            "[CV] END ...learning_rate=0.1, max_depth=3, n_estimators=100; total time=   0.0s\n",
            "[CV] END ...learning_rate=0.1, max_depth=3, n_estimators=100; total time=   0.0s\n",
            "[CV] END ..learning_rate=0.2, max_depth=10, n_estimators=300; total time=   0.3s\n",
            "[CV] END ..learning_rate=0.2, max_depth=10, n_estimators=300; total time=   0.3s\n",
            "[CV] END ..learning_rate=0.2, max_depth=10, n_estimators=300; total time=   0.3s\n",
            "[CV] END ..learning_rate=0.2, max_depth=10, n_estimators=300; total time=   0.3s\n",
            "[CV] END ..learning_rate=0.2, max_depth=10, n_estimators=300; total time=   0.3s\n",
            "[CV] END ..learning_rate=0.01, max_depth=5, n_estimators=400; total time=   0.5s\n",
            "[CV] END ..learning_rate=0.01, max_depth=5, n_estimators=400; total time=   0.5s\n",
            "[CV] END ..learning_rate=0.01, max_depth=5, n_estimators=400; total time=   0.5s\n",
            "[CV] END ..learning_rate=0.01, max_depth=5, n_estimators=400; total time=   0.5s\n",
            "[CV] END ..learning_rate=0.01, max_depth=5, n_estimators=400; total time=   0.5s\n",
            "[CV] END .learning_rate=0.01, max_depth=10, n_estimators=400; total time=   1.1s\n",
            "[CV] END .learning_rate=0.01, max_depth=10, n_estimators=400; total time=   1.2s\n",
            "[CV] END .learning_rate=0.01, max_depth=10, n_estimators=400; total time=   1.1s\n",
            "[CV] END .learning_rate=0.01, max_depth=10, n_estimators=400; total time=   1.1s\n",
            "[CV] END .learning_rate=0.01, max_depth=10, n_estimators=400; total time=   1.1s\n",
            "[CV] END ...learning_rate=0.1, max_depth=5, n_estimators=100; total time=   0.1s\n",
            "[CV] END ...learning_rate=0.1, max_depth=5, n_estimators=100; total time=   0.1s\n",
            "[CV] END ...learning_rate=0.1, max_depth=5, n_estimators=100; total time=   0.1s\n",
            "[CV] END ...learning_rate=0.1, max_depth=5, n_estimators=100; total time=   0.1s\n",
            "[CV] END ...learning_rate=0.1, max_depth=5, n_estimators=100; total time=   0.1s\n",
            "[CV] END learning_rate=0.1, max_depth=None, n_estimators=300; total time=   0.5s\n",
            "[CV] END learning_rate=0.1, max_depth=None, n_estimators=300; total time=   0.5s\n",
            "[CV] END learning_rate=0.1, max_depth=None, n_estimators=300; total time=   0.6s\n",
            "[CV] END learning_rate=0.1, max_depth=None, n_estimators=300; total time=   0.5s\n",
            "[CV] END learning_rate=0.1, max_depth=None, n_estimators=300; total time=   0.6s\n",
            "[CV] END learning_rate=0.01, max_depth=None, n_estimators=300; total time=   0.9s\n",
            "[CV] END learning_rate=0.01, max_depth=None, n_estimators=300; total time=   1.0s\n",
            "[CV] END learning_rate=0.01, max_depth=None, n_estimators=300; total time=   1.0s\n",
            "[CV] END learning_rate=0.01, max_depth=None, n_estimators=300; total time=   1.0s\n",
            "[CV] END learning_rate=0.01, max_depth=None, n_estimators=300; total time=   1.0s\n",
            "[CV] END ...learning_rate=0.2, max_depth=5, n_estimators=100; total time=   0.1s\n",
            "[CV] END ...learning_rate=0.2, max_depth=5, n_estimators=100; total time=   0.1s\n",
            "[CV] END ...learning_rate=0.2, max_depth=5, n_estimators=100; total time=   0.1s\n",
            "[CV] END ...learning_rate=0.2, max_depth=5, n_estimators=100; total time=   0.1s\n",
            "[CV] END ...learning_rate=0.2, max_depth=5, n_estimators=100; total time=   0.1s\n",
            "[CV] END ...learning_rate=0.2, max_depth=5, n_estimators=400; total time=   0.5s\n",
            "[CV] END ...learning_rate=0.2, max_depth=5, n_estimators=400; total time=   0.5s\n",
            "[CV] END ...learning_rate=0.2, max_depth=5, n_estimators=400; total time=   0.5s\n",
            "[CV] END ...learning_rate=0.2, max_depth=5, n_estimators=400; total time=   0.5s\n",
            "[CV] END ...learning_rate=0.2, max_depth=5, n_estimators=400; total time=   0.5s\n",
            "[CV] END learning_rate=0.2, max_depth=None, n_estimators=300; total time=   0.2s\n",
            "[CV] END learning_rate=0.2, max_depth=None, n_estimators=300; total time=   0.2s\n",
            "[CV] END learning_rate=0.2, max_depth=None, n_estimators=300; total time=   0.3s\n",
            "[CV] END learning_rate=0.2, max_depth=None, n_estimators=300; total time=   0.2s\n",
            "[CV] END learning_rate=0.2, max_depth=None, n_estimators=300; total time=   0.2s\n",
            "[CV] END learning_rate=0.1, max_depth=None, n_estimators=400; total time=   0.6s\n",
            "[CV] END learning_rate=0.1, max_depth=None, n_estimators=400; total time=   0.6s\n",
            "[CV] END learning_rate=0.1, max_depth=None, n_estimators=400; total time=   0.6s\n",
            "[CV] END learning_rate=0.1, max_depth=None, n_estimators=400; total time=   0.6s\n",
            "[CV] END learning_rate=0.1, max_depth=None, n_estimators=400; total time=   0.6s\n",
            "[CV] END ..learning_rate=0.01, max_depth=3, n_estimators=200; total time=   0.1s\n",
            "[CV] END ..learning_rate=0.01, max_depth=3, n_estimators=200; total time=   0.1s\n",
            "[CV] END ..learning_rate=0.01, max_depth=3, n_estimators=200; total time=   0.1s\n",
            "[CV] END ..learning_rate=0.01, max_depth=3, n_estimators=200; total time=   0.1s\n",
            "[CV] END ..learning_rate=0.01, max_depth=3, n_estimators=200; total time=   0.1s\n",
            "[CV] END .learning_rate=0.01, max_depth=10, n_estimators=300; total time=   0.8s\n",
            "[CV] END .learning_rate=0.01, max_depth=10, n_estimators=300; total time=   1.0s\n",
            "[CV] END .learning_rate=0.01, max_depth=10, n_estimators=300; total time=   1.2s\n",
            "[CV] END .learning_rate=0.01, max_depth=10, n_estimators=300; total time=   1.2s\n",
            "[CV] END .learning_rate=0.01, max_depth=10, n_estimators=300; total time=   1.1s\n",
            "[CV] END ...learning_rate=0.2, max_depth=5, n_estimators=200; total time=   0.4s\n",
            "[CV] END ...learning_rate=0.2, max_depth=5, n_estimators=200; total time=   0.3s\n",
            "[CV] END ...learning_rate=0.2, max_depth=5, n_estimators=200; total time=   0.3s\n",
            "[CV] END ...learning_rate=0.2, max_depth=5, n_estimators=200; total time=   0.3s\n",
            "[CV] END ...learning_rate=0.2, max_depth=5, n_estimators=200; total time=   0.3s\n",
            "[CV] END ...learning_rate=0.1, max_depth=3, n_estimators=500; total time=   0.6s\n",
            "[CV] END ...learning_rate=0.1, max_depth=3, n_estimators=500; total time=   0.6s\n",
            "[CV] END ...learning_rate=0.1, max_depth=3, n_estimators=500; total time=   0.6s\n",
            "[CV] END ...learning_rate=0.1, max_depth=3, n_estimators=500; total time=   0.8s\n",
            "[CV] END ...learning_rate=0.1, max_depth=3, n_estimators=500; total time=   0.5s\n",
            "[CV] END ..learning_rate=0.01, max_depth=5, n_estimators=200; total time=   0.3s\n",
            "[CV] END ..learning_rate=0.01, max_depth=5, n_estimators=200; total time=   0.3s\n",
            "[CV] END ..learning_rate=0.01, max_depth=5, n_estimators=200; total time=   0.2s\n",
            "[CV] END ..learning_rate=0.01, max_depth=5, n_estimators=200; total time=   0.2s\n",
            "[CV] END ..learning_rate=0.01, max_depth=5, n_estimators=200; total time=   0.2s\n",
            "[CV] END ...learning_rate=0.1, max_depth=3, n_estimators=400; total time=   0.3s\n",
            "[CV] END ...learning_rate=0.1, max_depth=3, n_estimators=400; total time=   0.3s\n",
            "[CV] END ...learning_rate=0.1, max_depth=3, n_estimators=400; total time=   0.3s\n",
            "[CV] END ...learning_rate=0.1, max_depth=3, n_estimators=400; total time=   0.3s\n",
            "[CV] END ...learning_rate=0.1, max_depth=3, n_estimators=400; total time=   0.3s\n",
            "[CV] END learning_rate=0.1, max_depth=None, n_estimators=200; total time=   0.5s\n",
            "[CV] END learning_rate=0.1, max_depth=None, n_estimators=200; total time=   0.6s\n",
            "[CV] END learning_rate=0.1, max_depth=None, n_estimators=200; total time=   0.6s\n",
            "[CV] END learning_rate=0.1, max_depth=None, n_estimators=200; total time=   0.6s\n",
            "[CV] END learning_rate=0.1, max_depth=None, n_estimators=200; total time=   0.6s\n"
          ]
        },
        {
          "data": {
            "text/html": [
              "<style>#sk-container-id-1 {color: black;background-color: white;}#sk-container-id-1 pre{padding: 0;}#sk-container-id-1 div.sk-toggleable {background-color: white;}#sk-container-id-1 label.sk-toggleable__label {cursor: pointer;display: block;width: 100%;margin-bottom: 0;padding: 0.3em;box-sizing: border-box;text-align: center;}#sk-container-id-1 label.sk-toggleable__label-arrow:before {content: \"▸\";float: left;margin-right: 0.25em;color: #696969;}#sk-container-id-1 label.sk-toggleable__label-arrow:hover:before {color: black;}#sk-container-id-1 div.sk-estimator:hover label.sk-toggleable__label-arrow:before {color: black;}#sk-container-id-1 div.sk-toggleable__content {max-height: 0;max-width: 0;overflow: hidden;text-align: left;background-color: #f0f8ff;}#sk-container-id-1 div.sk-toggleable__content pre {margin: 0.2em;color: black;border-radius: 0.25em;background-color: #f0f8ff;}#sk-container-id-1 input.sk-toggleable__control:checked~div.sk-toggleable__content {max-height: 200px;max-width: 100%;overflow: auto;}#sk-container-id-1 input.sk-toggleable__control:checked~label.sk-toggleable__label-arrow:before {content: \"▾\";}#sk-container-id-1 div.sk-estimator input.sk-toggleable__control:checked~label.sk-toggleable__label {background-color: #d4ebff;}#sk-container-id-1 div.sk-label input.sk-toggleable__control:checked~label.sk-toggleable__label {background-color: #d4ebff;}#sk-container-id-1 input.sk-hidden--visually {border: 0;clip: rect(1px 1px 1px 1px);clip: rect(1px, 1px, 1px, 1px);height: 1px;margin: -1px;overflow: hidden;padding: 0;position: absolute;width: 1px;}#sk-container-id-1 div.sk-estimator {font-family: monospace;background-color: #f0f8ff;border: 1px dotted black;border-radius: 0.25em;box-sizing: border-box;margin-bottom: 0.5em;}#sk-container-id-1 div.sk-estimator:hover {background-color: #d4ebff;}#sk-container-id-1 div.sk-parallel-item::after {content: \"\";width: 100%;border-bottom: 1px solid gray;flex-grow: 1;}#sk-container-id-1 div.sk-label:hover label.sk-toggleable__label {background-color: #d4ebff;}#sk-container-id-1 div.sk-serial::before {content: \"\";position: absolute;border-left: 1px solid gray;box-sizing: border-box;top: 0;bottom: 0;left: 50%;z-index: 0;}#sk-container-id-1 div.sk-serial {display: flex;flex-direction: column;align-items: center;background-color: white;padding-right: 0.2em;padding-left: 0.2em;position: relative;}#sk-container-id-1 div.sk-item {position: relative;z-index: 1;}#sk-container-id-1 div.sk-parallel {display: flex;align-items: stretch;justify-content: center;background-color: white;position: relative;}#sk-container-id-1 div.sk-item::before, #sk-container-id-1 div.sk-parallel-item::before {content: \"\";position: absolute;border-left: 1px solid gray;box-sizing: border-box;top: 0;bottom: 0;left: 50%;z-index: -1;}#sk-container-id-1 div.sk-parallel-item {display: flex;flex-direction: column;z-index: 1;position: relative;background-color: white;}#sk-container-id-1 div.sk-parallel-item:first-child::after {align-self: flex-end;width: 50%;}#sk-container-id-1 div.sk-parallel-item:last-child::after {align-self: flex-start;width: 50%;}#sk-container-id-1 div.sk-parallel-item:only-child::after {width: 0;}#sk-container-id-1 div.sk-dashed-wrapped {border: 1px dashed gray;margin: 0 0.4em 0.5em 0.4em;box-sizing: border-box;padding-bottom: 0.4em;background-color: white;}#sk-container-id-1 div.sk-label label {font-family: monospace;font-weight: bold;display: inline-block;line-height: 1.2em;}#sk-container-id-1 div.sk-label-container {text-align: center;}#sk-container-id-1 div.sk-container {/* jupyter's `normalize.less` sets `[hidden] { display: none; }` but bootstrap.min.css set `[hidden] { display: none !important; }` so we also need the `!important` here to be able to override the default hidden behavior on the sphinx rendered scikit-learn.org. See: https://github.com/scikit-learn/scikit-learn/issues/21755 */display: inline-block !important;position: relative;}#sk-container-id-1 div.sk-text-repr-fallback {display: none;}</style><div id=\"sk-container-id-1\" class=\"sk-top-container\"><div class=\"sk-text-repr-fallback\"><pre>RandomizedSearchCV(cv=5, estimator=GradientBoostingRegressor(random_state=0),\n",
              "                   n_iter=50,\n",
              "                   param_distributions={&#x27;learning_rate&#x27;: [0.01, 0.1, 0.2],\n",
              "                                        &#x27;max_depth&#x27;: [3, 5, 10, None],\n",
              "                                        &#x27;n_estimators&#x27;: [100, 200, 300, 400,\n",
              "                                                         500]},\n",
              "                   random_state=0, verbose=2)</pre><b>In a Jupyter environment, please rerun this cell to show the HTML representation or trust the notebook. <br />On GitHub, the HTML representation is unable to render, please try loading this page with nbviewer.org.</b></div><div class=\"sk-container\" hidden><div class=\"sk-item sk-dashed-wrapped\"><div class=\"sk-label-container\"><div class=\"sk-label sk-toggleable\"><input class=\"sk-toggleable__control sk-hidden--visually\" id=\"sk-estimator-id-1\" type=\"checkbox\" ><label for=\"sk-estimator-id-1\" class=\"sk-toggleable__label sk-toggleable__label-arrow\">RandomizedSearchCV</label><div class=\"sk-toggleable__content\"><pre>RandomizedSearchCV(cv=5, estimator=GradientBoostingRegressor(random_state=0),\n",
              "                   n_iter=50,\n",
              "                   param_distributions={&#x27;learning_rate&#x27;: [0.01, 0.1, 0.2],\n",
              "                                        &#x27;max_depth&#x27;: [3, 5, 10, None],\n",
              "                                        &#x27;n_estimators&#x27;: [100, 200, 300, 400,\n",
              "                                                         500]},\n",
              "                   random_state=0, verbose=2)</pre></div></div></div><div class=\"sk-parallel\"><div class=\"sk-parallel-item\"><div class=\"sk-item\"><div class=\"sk-label-container\"><div class=\"sk-label sk-toggleable\"><input class=\"sk-toggleable__control sk-hidden--visually\" id=\"sk-estimator-id-2\" type=\"checkbox\" ><label for=\"sk-estimator-id-2\" class=\"sk-toggleable__label sk-toggleable__label-arrow\">estimator: GradientBoostingRegressor</label><div class=\"sk-toggleable__content\"><pre>GradientBoostingRegressor(random_state=0)</pre></div></div></div><div class=\"sk-serial\"><div class=\"sk-item\"><div class=\"sk-estimator sk-toggleable\"><input class=\"sk-toggleable__control sk-hidden--visually\" id=\"sk-estimator-id-3\" type=\"checkbox\" ><label for=\"sk-estimator-id-3\" class=\"sk-toggleable__label sk-toggleable__label-arrow\">GradientBoostingRegressor</label><div class=\"sk-toggleable__content\"><pre>GradientBoostingRegressor(random_state=0)</pre></div></div></div></div></div></div></div></div></div></div>"
            ],
            "text/plain": [
              "RandomizedSearchCV(cv=5, estimator=GradientBoostingRegressor(random_state=0),\n",
              "                   n_iter=50,\n",
              "                   param_distributions={'learning_rate': [0.01, 0.1, 0.2],\n",
              "                                        'max_depth': [3, 5, 10, None],\n",
              "                                        'n_estimators': [100, 200, 300, 400,\n",
              "                                                         500]},\n",
              "                   random_state=0, verbose=2)"
            ]
          },
          "execution_count": 9,
          "metadata": {},
          "output_type": "execute_result"
        }
      ],
      "source": [
        "# Define hyperparameters grid\n",
        "gb_params = {\n",
        "    'n_estimators': [100, 200, 300, 400, 500],  # Increasing number of trees\n",
        "    'max_depth': [3, 5, 10, None],              # Varying max depth of the trees\n",
        "    'learning_rate': [0.01, 0.1, 0.2]           # Varying learning rate\n",
        "}\n",
        "\n",
        "# Randomized search with cross-validation\n",
        "gb_random_search = RandomizedSearchCV(GradientBoostingRegressor(random_state=0),\n",
        "                                      gb_params,\n",
        "                                      n_iter=50,  # Increased number of parameter settings sampled\n",
        "                                      cv=5,\n",
        "                                      verbose=2,\n",
        "                                      random_state=0)\n",
        "gb_random_search.fit(X_train_scaled, y_train)"
      ]
    },
    {
      "cell_type": "code",
      "execution_count": 10,
      "metadata": {
        "id": "BbzAhV7t7nmG"
      },
      "outputs": [],
      "source": [
        "# Extracting best estimator and its features\n",
        "best_gb = gb_random_search.best_estimator_\n",
        "selected_features = X_train_scaled.columns[best_gb.feature_importances_ > np.percentile(best_gb.feature_importances_, 75)]\n"
      ]
    },
    {
      "cell_type": "code",
      "execution_count": 11,
      "metadata": {
        "id": "SimLYKUq7pnh"
      },
      "outputs": [],
      "source": [
        "# Export selected features\n",
        "pd.Series(selected_features).to_csv('selected_features_gradient_boosting.csv', index=False)\n"
      ]
    },
    {
      "cell_type": "code",
      "execution_count": 12,
      "metadata": {
        "id": "CCLObHwJ7rut"
      },
      "outputs": [],
      "source": [
        "# Using selected features for modeling\n",
        "X_train_selected = X_train_scaled[selected_features]\n",
        "X_test_selected = X_test_scaled[selected_features]"
      ]
    },
    {
      "cell_type": "code",
      "execution_count": 13,
      "metadata": {
        "id": "nXJ7Xbdx7tQB"
      },
      "outputs": [],
      "source": [
        "# Linear regression for prediction\n",
        "regressor = LinearRegression()\n",
        "regressor.fit(X_train_selected, y_train)\n",
        "y_pred = regressor.predict(X_test_selected)\n"
      ]
    },
    {
      "cell_type": "code",
      "execution_count": 14,
      "metadata": {
        "colab": {
          "base_uri": "https://localhost:8080/"
        },
        "id": "wjYHJWvQ7umL",
        "outputId": "7ab27890-8019-471c-cd15-9fdf56077366"
      },
      "outputs": [],
      "source": [
        "# Calculate RMSE and R-squared\n",
        "rmse = np.sqrt(mean_squared_error(y_test, y_pred))\n",
        "r2 = r2_score(y_test, y_pred)\n",
        "\n"
      ]
    },
    {
      "cell_type": "code",
      "execution_count": 15,
      "metadata": {
        "colab": {
          "base_uri": "https://localhost:8080/"
        },
        "id": "66UxbU1E7wGD",
        "outputId": "9333f322-a10c-4232-8807-46c446c24ed1"
      },
      "outputs": [
        {
          "name": "stdout",
          "output_type": "stream",
          "text": [
            "Test RMSE: 2.1913427290816663\n",
            "Test R²: 0.3217879703305182\n",
            "Best cross-validated RMSE:  -0.2443028204688787\n"
          ]
        }
      ],
      "source": [
        "print(f'Test RMSE: {rmse}')\n",
        "print(f'Test R²: {r2}')\n",
        "# Output the best RMSE found during cross-validation\n",
        "print(\"Best cross-validated RMSE: \", -gb_random_search.best_score_)  # Negate to get the positive RMSE"
      ]
    },
    {
      "cell_type": "code",
      "execution_count": 16,
      "metadata": {
        "colab": {
          "base_uri": "https://localhost:8080/",
          "height": 1000
        },
        "id": "8CIXrP8P7xf6",
        "outputId": "83706667-8b97-4379-9002-ed412d4d371a"
      },
      "outputs": [
        {
          "data": {
            "image/png": "[encoded data removed]",
            "text/plain": [
              "<Figure size 720x360 with 1 Axes>"
            ]
          },
          "metadata": {
            "needs_background": "light"
          },
          "output_type": "display_data"
        },
        {
          "data": {
            "image/png": "[encoded data removed]",
            "text/plain": [
              "<Figure size 720x360 with 1 Axes>"
            ]
          },
          "metadata": {
            "needs_background": "light"
          },
          "output_type": "display_data"
        }
      ],
      "source": [
        "# Visualization of predictions vs. actual\n",
        "plt.figure(figsize=(10, 5))\n",
        "plt.scatter(y_test, y_pred, alpha=0.5)\n",
        "plt.plot([y_test.min(), y_test.max()], [y_test.min(), y_test.max()], 'k--', lw=2)\n",
        "plt.xlabel('Measured')\n",
        "plt.ylabel('Predicted')\n",
        "plt.title('Predictions vs. Actual Values')\n",
        "plt.show()\n",
        "\n",
        "# Plot feature importances of the selected features only\n",
        "plt.figure(figsize=(10, 5))\n",
        "# Get importances for selected features only\n",
        "selected_importances = best_gb.feature_importances_[best_gb.feature_importances_ > np.percentile(best_gb.feature_importances_, 75)]\n",
        "# Sort features by importance\n",
        "sorted_idx = np.argsort(selected_importances)[::-1]\n",
        "\n",
        "plt.title('Feature Importances from Gradient Boosting')\n",
        "# Here, ensure that the range and selected_importances align properly\n",
        "plt.bar(range(len(selected_importances)), selected_importances[sorted_idx], color=\"g\", align=\"center\")\n",
        "# Use selected_features to label x-ticks\n",
        "plt.xticks(range(len(selected_importances)), selected_features[sorted_idx], rotation=90)\n",
        "plt.xlim([-1, len(selected_importances)])\n",
        "plt.show()"
      ]
    }
  ],
  "metadata": {
    "colab": {
      "provenance": []
    },
    "kernelspec": {
      "display_name": "Python 3.10.11 64-bit (microsoft store)",
      "language": "python",
      "name": "python3"
    },
    "language_info": {
      "codemirror_mode": {
        "name": "ipython",
        "version": 3
      },
      "file_extension": ".py",
      "mimetype": "text/x-python",
      "name": "python",
      "nbconvert_exporter": "python",
      "pygments_lexer": "ipython3",
      "version": "3.10.11"
    },
    "vscode": {
      "interpreter": {
        "hash": "3b7e9cb8e453d6cda0fe8c8dd13f891a1f09162f0e7c66ffeae7751a7aecf00d"
      }
    }
  },
  "nbformat": 4,
  "nbformat_minor": 0
}
