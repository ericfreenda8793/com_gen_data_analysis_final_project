{
  "cells": [
    {
      "cell_type": "code",
      "execution_count": 3,
      "metadata": {
        "id": "tjveJhzslCcq"
      },
      "outputs": [],
      "source": [
        "import pandas as pd\n",
        "import numpy as np\n",
        "from sklearn.model_selection import train_test_split, RandomizedSearchCV, cross_val_score\n",
        "from sklearn.linear_model import ElasticNetCV, LinearRegression\n",
        "from sklearn.preprocessing import StandardScaler\n",
        "from sklearn.impute import SimpleImputer\n",
        "from sklearn.metrics import mean_squared_error, r2_score, make_scorer\n",
        "import matplotlib.pyplot as plt"
      ]
    },
    {
      "cell_type": "code",
      "execution_count": 4,
      "metadata": {
        "id": "z20Wp0bxlHuK"
      },
      "outputs": [],
      "source": [
        "# Load the data\n",
        "genotypes = pd.read_csv('tomatoes/Genotypic_data_maf10_min10_291acc.txt', index_col=0)\n",
        "phenotype = pd.read_csv('tomatoes/phenodata_BLUP_2012.txt', sep='\\t', index_col='ID')"
      ]
    },
    {
      "cell_type": "code",
      "execution_count": 5,
      "metadata": {
        "id": "3BIAAao2lI7a"
      },
      "outputs": [],
      "source": [
        "# Split the data into training and testing sets\n",
        "X_train, X_test, y_train, y_test = train_test_split(\n",
        "    genotypes, phenotype['FREAR'], test_size=0.2, random_state=42)"
      ]
    },
    {
      "cell_type": "code",
      "execution_count": 6,
      "metadata": {
        "id": "EXesIpYurllK"
      },
      "outputs": [],
      "source": [
        "# Function to calculate minor allele frequency\n",
        "def calculate_maf(df):\n",
        "    maf = df.apply(lambda x: min(x.mean(), 1 - x.mean()), axis=0)\n",
        "    return maf\n",
        "\n",
        "# Function for LD pruning\n",
        "def ld_pruning(df, threshold=0.5):\n",
        "    corr = df.corr().abs()\n",
        "    upper = corr.where(np.triu(np.ones(corr.shape), k=1).astype(bool))  # Updated to use bool\n",
        "    to_drop = [column for column in upper.columns if any(upper[column] > threshold)]\n",
        "    return df.drop(to_drop, axis=1)"
      ]
    },
    {
      "cell_type": "code",
      "execution_count": 7,
      "metadata": {
        "id": "sQd_6u9sr5RR"
      },
      "outputs": [],
      "source": [
        "# Apply MAF and LD pruning only to the training set\n",
        "maf = calculate_maf(X_train)\n",
        "X_train_filtered = X_train.loc[:, maf > 0.05]  # Filter out SNPs with MAF <= 5%\n",
        "X_train_pruned = ld_pruning(X_train_filtered)"
      ]
    },
    {
      "cell_type": "code",
      "execution_count": 8,
      "metadata": {
        "id": "QlYYwklWlVp1"
      },
      "outputs": [],
      "source": [
        "# Impute missing data and scale the data\n",
        "imputer = SimpleImputer(strategy='median')\n",
        "scaler = StandardScaler()\n",
        "\n",
        "X_train_imputed = pd.DataFrame(imputer.fit_transform(X_train_pruned), columns=X_train_pruned.columns)\n",
        "X_train_scaled = pd.DataFrame(scaler.fit_transform(X_train_imputed), columns=X_train_pruned.columns)\n",
        "\n",
        "# Apply the same imputation and scaling transformations to the test set\n",
        "X_test_filtered = X_test[X_train_pruned.columns]  # Keep only the columns that survived pruning\n",
        "X_test_imputed = pd.DataFrame(imputer.transform(X_test_filtered), columns=X_train_pruned.columns)\n",
        "X_test_scaled = pd.DataFrame(scaler.transform(X_test_imputed), columns=X_train_pruned.columns)"
      ]
    },
    {
      "cell_type": "code",
      "execution_count": 9,
      "metadata": {
        "id": "O6yP9GPX2WtN"
      },
      "outputs": [],
      "source": [
        "# Elastic Net for feature selection with increased number of iterations\n",
        "elastic_net_cv = ElasticNetCV(cv=5, random_state=0, l1_ratio=[.1, .5, .7, .9, .95, .99, 1], max_iter=10000)\n",
        "elastic_net_cv.fit(X_train_scaled, y_train)\n",
        "\n",
        "# Check if the model has converged\n",
        "if not elastic_net_cv.mse_path_.any():\n",
        "    print(\"Model has not converged. Consider increasing max_iter or changing the parameters.\")"
      ]
    },
    {
      "cell_type": "code",
      "execution_count": 10,
      "metadata": {
        "id": "yopxT3BB2YdP"
      },
      "outputs": [],
      "source": [
        "# Filter features based on coefficients\n",
        "selected_features = X_train_scaled.columns[elastic_net_cv.coef_ != 0]"
      ]
    },
    {
      "cell_type": "code",
      "execution_count": 11,
      "metadata": {
        "id": "x8znzOjw2aF-"
      },
      "outputs": [],
      "source": [
        "# Export selected features\n",
        "pd.Series(selected_features).to_csv('Features_selected/selected_features_elastic_net.csv', index=False)"
      ]
    },
    {
      "cell_type": "code",
      "execution_count": 12,
      "metadata": {
        "id": "m7hNhYWk2ec9"
      },
      "outputs": [],
      "source": [
        "# Using selected features for modeling\n",
        "X_train_selected = X_train_scaled[selected_features]\n",
        "X_test_selected = X_test_scaled[selected_features]"
      ]
    },
    {
      "cell_type": "code",
      "execution_count": 13,
      "metadata": {
        "colab": {
          "base_uri": "https://localhost:8080/",
          "height": 255
        },
        "id": "cZL-zcgU4KEE",
        "outputId": "0c03a6d7-1643-4e44-9530-fadddea03ff5"
      },
      "outputs": [
        {
          "data": {
            "text/html": [
              "<div>\n",
              "<style scoped>\n",
              "    .dataframe tbody tr th:only-of-type {\n",
              "        vertical-align: middle;\n",
              "    }\n",
              "\n",
              "    .dataframe tbody tr th {\n",
              "        vertical-align: top;\n",
              "    }\n",
              "\n",
              "    .dataframe thead th {\n",
              "        text-align: right;\n",
              "    }\n",
              "</style>\n",
              "<table border=\"1\" class=\"dataframe\">\n",
              "  <thead>\n",
              "    <tr style=\"text-align: right;\">\n",
              "      <th></th>\n",
              "      <th>IIT8604</th>\n",
              "      <th>IIT8613</th>\n",
              "      <th>IIT8662</th>\n",
              "      <th>IIT12528</th>\n",
              "      <th>IIT11292</th>\n",
              "      <th>IIT10796</th>\n",
              "      <th>solcap_snp_sl_15056</th>\n",
              "      <th>solcap_snp_sl_33709</th>\n",
              "      <th>solcap_snp_sl_60078</th>\n",
              "      <th>solcap_snp_sl_33676</th>\n",
              "      <th>...</th>\n",
              "      <th>IIT9778</th>\n",
              "      <th>IIT9322</th>\n",
              "      <th>CL017629.0231</th>\n",
              "      <th>solcap_snp_sl_15641</th>\n",
              "      <th>solcap_snp_sl_36066</th>\n",
              "      <th>IIT9014</th>\n",
              "      <th>solcap_snp_sl_33666</th>\n",
              "      <th>solcap_snp_sl_19031</th>\n",
              "      <th>solcap_snp_sl_19630</th>\n",
              "      <th>solcap_snp_sl_31975</th>\n",
              "    </tr>\n",
              "  </thead>\n",
              "  <tbody>\n",
              "    <tr>\n",
              "      <th>0</th>\n",
              "      <td>-0.529159</td>\n",
              "      <td>-0.3982</td>\n",
              "      <td>-0.687785</td>\n",
              "      <td>-1.015593</td>\n",
              "      <td>-0.586011</td>\n",
              "      <td>-0.569062</td>\n",
              "      <td>-0.359176</td>\n",
              "      <td>1.964422</td>\n",
              "      <td>2.659013</td>\n",
              "      <td>1.971164</td>\n",
              "      <td>...</td>\n",
              "      <td>1.133913</td>\n",
              "      <td>1.177975</td>\n",
              "      <td>-0.662395</td>\n",
              "      <td>-0.842282</td>\n",
              "      <td>-0.359176</td>\n",
              "      <td>-0.341848</td>\n",
              "      <td>2.333531</td>\n",
              "      <td>-0.494288</td>\n",
              "      <td>0.075985</td>\n",
              "      <td>-0.415339</td>\n",
              "    </tr>\n",
              "    <tr>\n",
              "      <th>1</th>\n",
              "      <td>-0.529159</td>\n",
              "      <td>-0.3982</td>\n",
              "      <td>-0.687785</td>\n",
              "      <td>1.024386</td>\n",
              "      <td>-0.586011</td>\n",
              "      <td>1.767617</td>\n",
              "      <td>-0.359176</td>\n",
              "      <td>-0.519207</td>\n",
              "      <td>-0.387362</td>\n",
              "      <td>-0.527798</td>\n",
              "      <td>...</td>\n",
              "      <td>0.122114</td>\n",
              "      <td>-0.900278</td>\n",
              "      <td>-0.662395</td>\n",
              "      <td>-0.842282</td>\n",
              "      <td>-0.359176</td>\n",
              "      <td>-0.341848</td>\n",
              "      <td>-0.442773</td>\n",
              "      <td>-0.494288</td>\n",
              "      <td>1.112950</td>\n",
              "      <td>-0.415339</td>\n",
              "    </tr>\n",
              "    <tr>\n",
              "      <th>2</th>\n",
              "      <td>-0.529159</td>\n",
              "      <td>-0.3982</td>\n",
              "      <td>1.468513</td>\n",
              "      <td>1.024386</td>\n",
              "      <td>-0.586011</td>\n",
              "      <td>-0.569062</td>\n",
              "      <td>-0.359176</td>\n",
              "      <td>-0.519207</td>\n",
              "      <td>-0.387362</td>\n",
              "      <td>1.971164</td>\n",
              "      <td>...</td>\n",
              "      <td>-0.889685</td>\n",
              "      <td>1.177975</td>\n",
              "      <td>-0.662395</td>\n",
              "      <td>-0.842282</td>\n",
              "      <td>-0.359176</td>\n",
              "      <td>-0.341848</td>\n",
              "      <td>-0.442773</td>\n",
              "      <td>-0.494288</td>\n",
              "      <td>-0.960981</td>\n",
              "      <td>-0.415339</td>\n",
              "    </tr>\n",
              "    <tr>\n",
              "      <th>3</th>\n",
              "      <td>-0.529159</td>\n",
              "      <td>-0.3982</td>\n",
              "      <td>-0.687785</td>\n",
              "      <td>1.024386</td>\n",
              "      <td>-0.586011</td>\n",
              "      <td>-0.569062</td>\n",
              "      <td>-0.359176</td>\n",
              "      <td>1.964422</td>\n",
              "      <td>-0.387362</td>\n",
              "      <td>-0.527798</td>\n",
              "      <td>...</td>\n",
              "      <td>-0.889685</td>\n",
              "      <td>1.177975</td>\n",
              "      <td>-0.662395</td>\n",
              "      <td>1.225543</td>\n",
              "      <td>2.845782</td>\n",
              "      <td>-0.341848</td>\n",
              "      <td>2.333531</td>\n",
              "      <td>2.111960</td>\n",
              "      <td>1.112950</td>\n",
              "      <td>2.595871</td>\n",
              "    </tr>\n",
              "    <tr>\n",
              "      <th>4</th>\n",
              "      <td>-0.529159</td>\n",
              "      <td>-0.3982</td>\n",
              "      <td>-0.687785</td>\n",
              "      <td>-1.015593</td>\n",
              "      <td>-0.586011</td>\n",
              "      <td>-0.569062</td>\n",
              "      <td>-0.359176</td>\n",
              "      <td>-0.519207</td>\n",
              "      <td>-0.387362</td>\n",
              "      <td>-0.527798</td>\n",
              "      <td>...</td>\n",
              "      <td>-0.889685</td>\n",
              "      <td>-0.900278</td>\n",
              "      <td>-0.662395</td>\n",
              "      <td>-0.842282</td>\n",
              "      <td>-0.359176</td>\n",
              "      <td>-0.341848</td>\n",
              "      <td>-0.442773</td>\n",
              "      <td>-0.494288</td>\n",
              "      <td>0.075985</td>\n",
              "      <td>-0.415339</td>\n",
              "    </tr>\n",
              "  </tbody>\n",
              "</table>\n",
              "<p>5 rows × 99 columns</p>\n",
              "</div>"
            ],
            "text/plain": [
              "    IIT8604  IIT8613   IIT8662  IIT12528  IIT11292  IIT10796  \\\n",
              "0 -0.529159  -0.3982 -0.687785 -1.015593 -0.586011 -0.569062   \n",
              "1 -0.529159  -0.3982 -0.687785  1.024386 -0.586011  1.767617   \n",
              "2 -0.529159  -0.3982  1.468513  1.024386 -0.586011 -0.569062   \n",
              "3 -0.529159  -0.3982 -0.687785  1.024386 -0.586011 -0.569062   \n",
              "4 -0.529159  -0.3982 -0.687785 -1.015593 -0.586011 -0.569062   \n",
              "\n",
              "   solcap_snp_sl_15056  solcap_snp_sl_33709  solcap_snp_sl_60078  \\\n",
              "0            -0.359176             1.964422             2.659013   \n",
              "1            -0.359176            -0.519207            -0.387362   \n",
              "2            -0.359176            -0.519207            -0.387362   \n",
              "3            -0.359176             1.964422            -0.387362   \n",
              "4            -0.359176            -0.519207            -0.387362   \n",
              "\n",
              "   solcap_snp_sl_33676  ...   IIT9778   IIT9322  CL017629.0231  \\\n",
              "0             1.971164  ...  1.133913  1.177975      -0.662395   \n",
              "1            -0.527798  ...  0.122114 -0.900278      -0.662395   \n",
              "2             1.971164  ... -0.889685  1.177975      -0.662395   \n",
              "3            -0.527798  ... -0.889685  1.177975      -0.662395   \n",
              "4            -0.527798  ... -0.889685 -0.900278      -0.662395   \n",
              "\n",
              "   solcap_snp_sl_15641  solcap_snp_sl_36066   IIT9014  solcap_snp_sl_33666  \\\n",
              "0            -0.842282            -0.359176 -0.341848             2.333531   \n",
              "1            -0.842282            -0.359176 -0.341848            -0.442773   \n",
              "2            -0.842282            -0.359176 -0.341848            -0.442773   \n",
              "3             1.225543             2.845782 -0.341848             2.333531   \n",
              "4            -0.842282            -0.359176 -0.341848            -0.442773   \n",
              "\n",
              "   solcap_snp_sl_19031  solcap_snp_sl_19630  solcap_snp_sl_31975  \n",
              "0            -0.494288             0.075985            -0.415339  \n",
              "1            -0.494288             1.112950            -0.415339  \n",
              "2            -0.494288            -0.960981            -0.415339  \n",
              "3             2.111960             1.112950             2.595871  \n",
              "4            -0.494288             0.075985            -0.415339  \n",
              "\n",
              "[5 rows x 99 columns]"
            ]
          },
          "execution_count": 13,
          "metadata": {},
          "output_type": "execute_result"
        }
      ],
      "source": [
        "X_train_selected.head()"
      ]
    },
    {
      "cell_type": "code",
      "execution_count": 14,
      "metadata": {
        "id": "5J0gBYaB2gtw"
      },
      "outputs": [],
      "source": [
        "# Linear regression with cross-validation\n",
        "regressor = LinearRegression()\n",
        "cv_scores = cross_val_score(regressor, X_train_selected, y_train, cv=5, scoring='neg_mean_squared_error')\n",
        "regressor.fit(X_train_selected, y_train)\n",
        "y_pred = regressor.predict(X_test_selected)"
      ]
    },
    {
      "cell_type": "code",
      "execution_count": 15,
      "metadata": {
        "id": "h5dRdWbZ2iIA"
      },
      "outputs": [],
      "source": [
        "# Calculate RMSE and R-squared\n",
        "rmse = np.sqrt(mean_squared_error(y_test, y_pred))\n",
        "r2 = r2_score(y_test, y_pred)\n",
        "mean_cv_rmse = np.sqrt(-cv_scores.mean())\n"
      ]
    },
    {
      "cell_type": "code",
      "execution_count": 16,
      "metadata": {
        "colab": {
          "base_uri": "https://localhost:8080/"
        },
        "id": "vzHPUxCl2is7",
        "outputId": "0854fbab-1a4f-4017-c59e-126ab5244f94"
      },
      "outputs": [
        {
          "name": "stdout",
          "output_type": "stream",
          "text": [
            "Test RMSE: 2.617331962928259\n",
            "Test R²: 0.03247433953953571\n",
            "Cross-Validated RMSE: 2.688105331143745\n"
          ]
        }
      ],
      "source": [
        "print(f'Test RMSE: {rmse}')\n",
        "print(f'Test R²: {r2}')\n",
        "print(f'Cross-Validated RMSE: {mean_cv_rmse}')"
      ]
    },
    {
      "cell_type": "code",
      "execution_count": 17,
      "metadata": {
        "colab": {
          "base_uri": "https://localhost:8080/",
          "height": 1000
        },
        "id": "0vtq79ds2keN",
        "outputId": "813fb88d-c9a6-476e-aa42-04fdc93332cb"
      },
      "outputs": [
        {
          "data": {
            "image/png": "[encoded data removed]",
            "text/plain": [
              "<Figure size 720x360 with 1 Axes>"
            ]
          },
          "metadata": {
            "needs_background": "light"
          },
          "output_type": "display_data"
        },
        {
          "data": {
            "image/png": "[encoded data removed]",
            "text/plain": [
              "<Figure size 720x360 with 1 Axes>"
            ]
          },
          "metadata": {
            "needs_background": "light"
          },
          "output_type": "display_data"
        }
      ],
      "source": [
        "# Visualization of predictions vs. actual\n",
        "plt.figure(figsize=(10, 5))\n",
        "plt.scatter(y_test, y_pred, alpha=0.5)\n",
        "plt.plot([y_test.min(), y_test.max()], [y_test.min(), y_test.max()], 'k--', lw=2)\n",
        "plt.xlabel('Measured')\n",
        "plt.ylabel('Predicted')\n",
        "plt.title('Predictions vs. Actual Values')\n",
        "plt.show()\n",
        "\n",
        "# Visualization of feature importances from Elastic Net\n",
        "plt.figure(figsize=(10, 5))\n",
        "importances = elastic_net_cv.coef_[elastic_net_cv.coef_ != 0]\n",
        "sorted_indices = np.argsort(importances)[::-1]\n",
        "plt.title('Feature Importances from Elastic Net')\n",
        "plt.bar(range(len(importances)), importances[sorted_indices], color=\"b\", align=\"center\")\n",
        "plt.xticks(range(len(importances)), selected_features[sorted_indices], rotation=90)\n",
        "plt.xlim([-1, len(importances)])\n",
        "plt.show()"
      ]
    }
  ],
  "metadata": {
    "colab": {
      "provenance": []
    },
    "kernelspec": {
      "display_name": "Python 3.10.11 64-bit (microsoft store)",
      "language": "python",
      "name": "python3"
    },
    "language_info": {
      "codemirror_mode": {
        "name": "ipython",
        "version": 3
      },
      "file_extension": ".py",
      "mimetype": "text/x-python",
      "name": "python",
      "nbconvert_exporter": "python",
      "pygments_lexer": "ipython3",
      "version": "3.10.11"
    },
    "vscode": {
      "interpreter": {
        "hash": "3b7e9cb8e453d6cda0fe8c8dd13f891a1f09162f0e7c66ffeae7751a7aecf00d"
      }
    }
  },
  "nbformat": 4,
  "nbformat_minor": 0
}
