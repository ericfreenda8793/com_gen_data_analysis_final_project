{
  "nbformat": 4,
  "nbformat_minor": 0,
  "metadata": {
    "colab": {
      "provenance": []
    },
    "kernelspec": {
      "name": "python3",
      "display_name": "Python 3"
    },
    "language_info": {
      "name": "python"
    }
  },
  "cells": [
    {
      "cell_type": "code",
      "execution_count": 30,
      "metadata": {
        "id": "tjveJhzslCcq"
      },
      "outputs": [],
      "source": [
        "from sklearn.svm import SVR\n",
        "from sklearn.feature_selection import SelectFromModel\n",
        "from sklearn.model_selection import train_test_split, GridSearchCV\n",
        "from sklearn.preprocessing import StandardScaler\n",
        "from sklearn.linear_model import LinearRegression\n",
        "from sklearn.impute import SimpleImputer\n",
        "from sklearn.metrics import mean_squared_error, r2_score\n",
        "import matplotlib.pyplot as plt\n",
        "import numpy as np\n",
        "import pandas as pd"
      ]
    },
    {
      "cell_type": "code",
      "source": [
        "# Load the data\n",
        "genotypes = pd.read_csv('Genotypic_data_maf10_min10_291acc.txt', index_col=0)\n",
        "phenotype = pd.read_csv('phenodata_BLUP_2012.txt', sep='\\t', index_col='ID')"
      ],
      "metadata": {
        "id": "z20Wp0bxlHuK"
      },
      "execution_count": 31,
      "outputs": []
    },
    {
      "cell_type": "code",
      "source": [
        "# Split the data into training and testing sets\n",
        "X_train, X_test, y_train, y_test = train_test_split(\n",
        "    genotypes, phenotype['FREAR'], test_size=0.2, random_state=42)"
      ],
      "metadata": {
        "id": "3BIAAao2lI7a"
      },
      "execution_count": 32,
      "outputs": []
    },
    {
      "cell_type": "code",
      "source": [
        "# Function to calculate minor allele frequency\n",
        "def calculate_maf(df):\n",
        "    maf = df.apply(lambda x: min(x.mean(), 1 - x.mean()), axis=0)\n",
        "    return maf\n",
        "\n",
        "# Function for LD pruning\n",
        "def ld_pruning(df, threshold=0.5):\n",
        "    corr = df.corr().abs()\n",
        "    upper = corr.where(np.triu(np.ones(corr.shape), k=1).astype(bool))  # Updated to use bool\n",
        "    to_drop = [column for column in upper.columns if any(upper[column] > threshold)]\n",
        "    return df.drop(to_drop, axis=1)"
      ],
      "metadata": {
        "id": "EXesIpYurllK"
      },
      "execution_count": 33,
      "outputs": []
    },
    {
      "cell_type": "code",
      "source": [
        "# Apply MAF and LD pruning only to the training set\n",
        "maf = calculate_maf(X_train)\n",
        "X_train_filtered = X_train.loc[:, maf > 0.05]  # Filter out SNPs with MAF <= 5%\n",
        "X_train_pruned = ld_pruning(X_train_filtered)"
      ],
      "metadata": {
        "id": "sQd_6u9sr5RR"
      },
      "execution_count": 34,
      "outputs": []
    },
    {
      "cell_type": "code",
      "source": [
        "# Impute missing data and scale the data\n",
        "imputer = SimpleImputer(strategy='median')\n",
        "scaler = StandardScaler()\n",
        "\n",
        "X_train_imputed = pd.DataFrame(imputer.fit_transform(X_train_pruned), columns=X_train_pruned.columns)\n",
        "X_train_scaled = pd.DataFrame(scaler.fit_transform(X_train_imputed), columns=X_train_pruned.columns)\n",
        "\n",
        "# Apply the same imputation and scaling transformations to the test set\n",
        "X_test_filtered = X_test[X_train_pruned.columns]  # Keep only the columns that survived pruning\n",
        "X_test_imputed = pd.DataFrame(imputer.transform(X_test_filtered), columns=X_train_pruned.columns)\n",
        "X_test_scaled = pd.DataFrame(scaler.transform(X_test_imputed), columns=X_train_pruned.columns)"
      ],
      "metadata": {
        "id": "QlYYwklWlVp1"
      },
      "execution_count": 35,
      "outputs": []
    },
    {
      "cell_type": "code",
      "source": [
        "# Define SVM for feature selection\n",
        "# Adjusting SVM parameters with an extended range for C and including an RBF kernel\n",
        "param_grid = {\n",
        "    'C': [0.001, 0.01, 0.1, 1, 10, 100, 200, 1000],\n",
        "    'kernel': ['linear']\n",
        "}\n",
        "\n",
        "svm = SVR()\n",
        "grid_search = GridSearchCV(svm, param_grid, cv=5, scoring='neg_mean_squared_error', verbose=2)\n",
        "grid_search.fit(X_train_scaled, y_train)"
      ],
      "metadata": {
        "colab": {
          "base_uri": "https://localhost:8080/",
          "height": 828
        },
        "id": "sQxQ2MZVfq6b",
        "outputId": "d0078dfb-3527-4534-a886-cda6d74f5686"
      },
      "execution_count": 39,
      "outputs": [
        {
          "output_type": "stream",
          "name": "stdout",
          "text": [
            "Fitting 5 folds for each of 8 candidates, totalling 40 fits\n",
            "[CV] END .............................C=0.001, kernel=linear; total time=   0.0s\n",
            "[CV] END .............................C=0.001, kernel=linear; total time=   0.0s\n",
            "[CV] END .............................C=0.001, kernel=linear; total time=   0.0s\n",
            "[CV] END .............................C=0.001, kernel=linear; total time=   0.0s\n",
            "[CV] END .............................C=0.001, kernel=linear; total time=   0.0s\n",
            "[CV] END ..............................C=0.01, kernel=linear; total time=   0.0s\n",
            "[CV] END ..............................C=0.01, kernel=linear; total time=   0.0s\n",
            "[CV] END ..............................C=0.01, kernel=linear; total time=   0.0s\n",
            "[CV] END ..............................C=0.01, kernel=linear; total time=   0.0s\n",
            "[CV] END ..............................C=0.01, kernel=linear; total time=   0.0s\n",
            "[CV] END ...............................C=0.1, kernel=linear; total time=   0.0s\n",
            "[CV] END ...............................C=0.1, kernel=linear; total time=   0.0s\n",
            "[CV] END ...............................C=0.1, kernel=linear; total time=   0.1s\n",
            "[CV] END ...............................C=0.1, kernel=linear; total time=   0.0s\n",
            "[CV] END ...............................C=0.1, kernel=linear; total time=   0.0s\n",
            "[CV] END .................................C=1, kernel=linear; total time=   0.3s\n",
            "[CV] END .................................C=1, kernel=linear; total time=   0.3s\n",
            "[CV] END .................................C=1, kernel=linear; total time=   0.2s\n",
            "[CV] END .................................C=1, kernel=linear; total time=   0.6s\n",
            "[CV] END .................................C=1, kernel=linear; total time=   0.7s\n",
            "[CV] END ................................C=10, kernel=linear; total time=   4.6s\n",
            "[CV] END ................................C=10, kernel=linear; total time=   3.3s\n",
            "[CV] END ................................C=10, kernel=linear; total time=   2.0s\n",
            "[CV] END ................................C=10, kernel=linear; total time=   1.8s\n",
            "[CV] END ................................C=10, kernel=linear; total time=   2.2s\n",
            "[CV] END ...............................C=100, kernel=linear; total time=  38.3s\n",
            "[CV] END ...............................C=100, kernel=linear; total time= 1.1min\n",
            "[CV] END ...............................C=100, kernel=linear; total time=  55.5s\n",
            "[CV] END ...............................C=100, kernel=linear; total time=  34.8s\n",
            "[CV] END ...............................C=100, kernel=linear; total time= 1.6min\n",
            "[CV] END ...............................C=200, kernel=linear; total time= 1.2min\n",
            "[CV] END ...............................C=200, kernel=linear; total time= 1.2min\n",
            "[CV] END ...............................C=200, kernel=linear; total time= 2.5min\n",
            "[CV] END ...............................C=200, kernel=linear; total time=  46.7s\n",
            "[CV] END ...............................C=200, kernel=linear; total time= 1.4min\n",
            "[CV] END ..............................C=1000, kernel=linear; total time= 4.1min\n",
            "[CV] END ..............................C=1000, kernel=linear; total time= 4.7min\n",
            "[CV] END ..............................C=1000, kernel=linear; total time= 8.9min\n",
            "[CV] END ..............................C=1000, kernel=linear; total time= 3.4min\n",
            "[CV] END ..............................C=1000, kernel=linear; total time= 9.7min\n"
          ]
        },
        {
          "output_type": "execute_result",
          "data": {
            "text/plain": [
              "GridSearchCV(cv=5, estimator=SVR(),\n",
              "             param_grid={'C': [0.001, 0.01, 0.1, 1, 10, 100, 200, 1000],\n",
              "                         'kernel': ['linear']},\n",
              "             scoring='neg_mean_squared_error', verbose=2)"
            ],
            "text/html": [
              "<style>#sk-container-id-4 {color: black;background-color: white;}#sk-container-id-4 pre{padding: 0;}#sk-container-id-4 div.sk-toggleable {background-color: white;}#sk-container-id-4 label.sk-toggleable__label {cursor: pointer;display: block;width: 100%;margin-bottom: 0;padding: 0.3em;box-sizing: border-box;text-align: center;}#sk-container-id-4 label.sk-toggleable__label-arrow:before {content: \"▸\";float: left;margin-right: 0.25em;color: #696969;}#sk-container-id-4 label.sk-toggleable__label-arrow:hover:before {color: black;}#sk-container-id-4 div.sk-estimator:hover label.sk-toggleable__label-arrow:before {color: black;}#sk-container-id-4 div.sk-toggleable__content {max-height: 0;max-width: 0;overflow: hidden;text-align: left;background-color: #f0f8ff;}#sk-container-id-4 div.sk-toggleable__content pre {margin: 0.2em;color: black;border-radius: 0.25em;background-color: #f0f8ff;}#sk-container-id-4 input.sk-toggleable__control:checked~div.sk-toggleable__content {max-height: 200px;max-width: 100%;overflow: auto;}#sk-container-id-4 input.sk-toggleable__control:checked~label.sk-toggleable__label-arrow:before {content: \"▾\";}#sk-container-id-4 div.sk-estimator input.sk-toggleable__control:checked~label.sk-toggleable__label {background-color: #d4ebff;}#sk-container-id-4 div.sk-label input.sk-toggleable__control:checked~label.sk-toggleable__label {background-color: #d4ebff;}#sk-container-id-4 input.sk-hidden--visually {border: 0;clip: rect(1px 1px 1px 1px);clip: rect(1px, 1px, 1px, 1px);height: 1px;margin: -1px;overflow: hidden;padding: 0;position: absolute;width: 1px;}#sk-container-id-4 div.sk-estimator {font-family: monospace;background-color: #f0f8ff;border: 1px dotted black;border-radius: 0.25em;box-sizing: border-box;margin-bottom: 0.5em;}#sk-container-id-4 div.sk-estimator:hover {background-color: #d4ebff;}#sk-container-id-4 div.sk-parallel-item::after {content: \"\";width: 100%;border-bottom: 1px solid gray;flex-grow: 1;}#sk-container-id-4 div.sk-label:hover label.sk-toggleable__label {background-color: #d4ebff;}#sk-container-id-4 div.sk-serial::before {content: \"\";position: absolute;border-left: 1px solid gray;box-sizing: border-box;top: 0;bottom: 0;left: 50%;z-index: 0;}#sk-container-id-4 div.sk-serial {display: flex;flex-direction: column;align-items: center;background-color: white;padding-right: 0.2em;padding-left: 0.2em;position: relative;}#sk-container-id-4 div.sk-item {position: relative;z-index: 1;}#sk-container-id-4 div.sk-parallel {display: flex;align-items: stretch;justify-content: center;background-color: white;position: relative;}#sk-container-id-4 div.sk-item::before, #sk-container-id-4 div.sk-parallel-item::before {content: \"\";position: absolute;border-left: 1px solid gray;box-sizing: border-box;top: 0;bottom: 0;left: 50%;z-index: -1;}#sk-container-id-4 div.sk-parallel-item {display: flex;flex-direction: column;z-index: 1;position: relative;background-color: white;}#sk-container-id-4 div.sk-parallel-item:first-child::after {align-self: flex-end;width: 50%;}#sk-container-id-4 div.sk-parallel-item:last-child::after {align-self: flex-start;width: 50%;}#sk-container-id-4 div.sk-parallel-item:only-child::after {width: 0;}#sk-container-id-4 div.sk-dashed-wrapped {border: 1px dashed gray;margin: 0 0.4em 0.5em 0.4em;box-sizing: border-box;padding-bottom: 0.4em;background-color: white;}#sk-container-id-4 div.sk-label label {font-family: monospace;font-weight: bold;display: inline-block;line-height: 1.2em;}#sk-container-id-4 div.sk-label-container {text-align: center;}#sk-container-id-4 div.sk-container {/* jupyter's `normalize.less` sets `[hidden] { display: none; }` but bootstrap.min.css set `[hidden] { display: none !important; }` so we also need the `!important` here to be able to override the default hidden behavior on the sphinx rendered scikit-learn.org. See: https://github.com/scikit-learn/scikit-learn/issues/21755 */display: inline-block !important;position: relative;}#sk-container-id-4 div.sk-text-repr-fallback {display: none;}</style><div id=\"sk-container-id-4\" class=\"sk-top-container\"><div class=\"sk-text-repr-fallback\"><pre>GridSearchCV(cv=5, estimator=SVR(),\n",
              "             param_grid={&#x27;C&#x27;: [0.001, 0.01, 0.1, 1, 10, 100, 200, 1000],\n",
              "                         &#x27;kernel&#x27;: [&#x27;linear&#x27;]},\n",
              "             scoring=&#x27;neg_mean_squared_error&#x27;, verbose=2)</pre><b>In a Jupyter environment, please rerun this cell to show the HTML representation or trust the notebook. <br />On GitHub, the HTML representation is unable to render, please try loading this page with nbviewer.org.</b></div><div class=\"sk-container\" hidden><div class=\"sk-item sk-dashed-wrapped\"><div class=\"sk-label-container\"><div class=\"sk-label sk-toggleable\"><input class=\"sk-toggleable__control sk-hidden--visually\" id=\"sk-estimator-id-10\" type=\"checkbox\" ><label for=\"sk-estimator-id-10\" class=\"sk-toggleable__label sk-toggleable__label-arrow\">GridSearchCV</label><div class=\"sk-toggleable__content\"><pre>GridSearchCV(cv=5, estimator=SVR(),\n",
              "             param_grid={&#x27;C&#x27;: [0.001, 0.01, 0.1, 1, 10, 100, 200, 1000],\n",
              "                         &#x27;kernel&#x27;: [&#x27;linear&#x27;]},\n",
              "             scoring=&#x27;neg_mean_squared_error&#x27;, verbose=2)</pre></div></div></div><div class=\"sk-parallel\"><div class=\"sk-parallel-item\"><div class=\"sk-item\"><div class=\"sk-label-container\"><div class=\"sk-label sk-toggleable\"><input class=\"sk-toggleable__control sk-hidden--visually\" id=\"sk-estimator-id-11\" type=\"checkbox\" ><label for=\"sk-estimator-id-11\" class=\"sk-toggleable__label sk-toggleable__label-arrow\">estimator: SVR</label><div class=\"sk-toggleable__content\"><pre>SVR()</pre></div></div></div><div class=\"sk-serial\"><div class=\"sk-item\"><div class=\"sk-estimator sk-toggleable\"><input class=\"sk-toggleable__control sk-hidden--visually\" id=\"sk-estimator-id-12\" type=\"checkbox\" ><label for=\"sk-estimator-id-12\" class=\"sk-toggleable__label sk-toggleable__label-arrow\">SVR</label><div class=\"sk-toggleable__content\"><pre>SVR()</pre></div></div></div></div></div></div></div></div></div></div>"
            ]
          },
          "metadata": {},
          "execution_count": 39
        }
      ]
    },
    {
      "cell_type": "code",
      "source": [
        "# Feature selection\n",
        "model = SelectFromModel(grid_search.best_estimator_, prefit=True)  # Adjusting the threshold\n",
        "X_train_selected = pd.DataFrame(model.transform(X_train_scaled), columns=X_train_scaled.columns[model.get_support()])\n",
        "X_test_selected = pd.DataFrame(model.transform(X_test_scaled), columns=X_test_scaled.columns[model.get_support()])\n"
      ],
      "metadata": {
        "colab": {
          "base_uri": "https://localhost:8080/"
        },
        "id": "cwXr8Lv2frV4",
        "outputId": "755b2a86-7fcc-4879-bfd0-8fc8d2789f2a"
      },
      "execution_count": 40,
      "outputs": [
        {
          "output_type": "stream",
          "name": "stderr",
          "text": [
            "/usr/local/lib/python3.10/dist-packages/sklearn/base.py:432: UserWarning: X has feature names, but SelectFromModel was fitted without feature names\n",
            "  warnings.warn(\n",
            "/usr/local/lib/python3.10/dist-packages/sklearn/base.py:432: UserWarning: X has feature names, but SelectFromModel was fitted without feature names\n",
            "  warnings.warn(\n"
          ]
        }
      ]
    },
    {
      "cell_type": "code",
      "source": [
        "# Export selected features\n",
        "selected_features = X_train_selected.columns\n",
        "pd.Series(selected_features).to_csv('selected_features_svm.csv', index=False)"
      ],
      "metadata": {
        "id": "S5bieup1ftMP"
      },
      "execution_count": 47,
      "outputs": []
    },
    {
      "cell_type": "code",
      "source": [
        "# Regression\n",
        "regressor = LinearRegression()\n",
        "regressor.fit(X_train_selected, y_train)\n",
        "y_pred = regressor.predict(X_test_selected)"
      ],
      "metadata": {
        "id": "tWAtOLyOfxTt"
      },
      "execution_count": 42,
      "outputs": []
    },
    {
      "cell_type": "code",
      "source": [
        "print(y_pred)"
      ],
      "metadata": {
        "colab": {
          "base_uri": "https://localhost:8080/"
        },
        "id": "xD65FaqvgeqT",
        "outputId": "f262f74b-628c-4c34-df8f-f2f32a9219ca"
      },
      "execution_count": 43,
      "outputs": [
        {
          "output_type": "stream",
          "name": "stdout",
          "text": [
            "[-2.97272264  2.25596972 -1.55555987  0.79570141 -1.04520148 -1.44596264\n",
            "  0.42001072  0.80636431 -0.42897872  0.52616103 -2.81040953 -1.08959076\n",
            " -2.67369327 -0.99291366 -1.37527796  0.90922035  0.81111544  0.72728003\n",
            " -0.71981347 -1.37937318 -0.35259227 -3.37683815 -1.18421373 -0.18093191\n",
            " -3.15896659  0.05172402 -5.32872068 -1.87690588  4.39584971 -1.38684334\n",
            " -0.34100587  3.03580715 -0.91716451  5.54084624  3.55582375 -0.10802929\n",
            "  0.04733932 -0.5861689   0.41444743 -0.34925382 -3.6189022   3.0719193\n",
            "  3.36198714 -3.39790306 -2.78966957 -1.54834167 -2.29817994  1.84658983\n",
            " -0.5837758   4.72919446 -1.03968193 -1.78490094 -1.74996947 -0.26678\n",
            " -0.37902997 -0.88583843  0.17881755 -0.08273963  1.95680122]\n"
          ]
        }
      ]
    },
    {
      "cell_type": "code",
      "source": [
        "y_test.head()"
      ],
      "metadata": {
        "colab": {
          "base_uri": "https://localhost:8080/"
        },
        "id": "HuLyqeSOgxL1",
        "outputId": "fe02ca5e-accc-4d07-f3c3-1ebbbcf1e469"
      },
      "execution_count": 44,
      "outputs": [
        {
          "output_type": "execute_result",
          "data": {
            "text/plain": [
              "ID\n",
              "SYNAGAD_087   -4.823664\n",
              "SYNAGAD_263    2.638036\n",
              "SYNAGAD_048   -0.346644\n",
              "SYNAGAD_180    5.352002\n",
              "SYNAGAD_146   -0.346644\n",
              "Name: FREAR, dtype: float64"
            ]
          },
          "metadata": {},
          "execution_count": 44
        }
      ]
    },
    {
      "cell_type": "code",
      "source": [
        "# Metrics\n",
        "# Extract the negative mean squared error and convert to positive\n",
        "mean_cv_mse = -grid_search.best_score_\n",
        "rmse_cv = np.sqrt(mean_cv_mse)\n",
        "print(f'Cross-validated RMSE: {rmse_cv}')\n",
        "\n",
        "rmse_test = np.sqrt(mean_squared_error(y_test, y_pred))\n",
        "r2_test = r2_score(y_test, y_pred)\n",
        "print(f'Test RMSE: {rmse_test}')\n",
        "print(f'Test R²: {r2_test}')"
      ],
      "metadata": {
        "colab": {
          "base_uri": "https://localhost:8080/"
        },
        "id": "P1prPKiAfzG4",
        "outputId": "0dc7d788-2267-49aa-9045-9c023c9afb33"
      },
      "execution_count": 45,
      "outputs": [
        {
          "output_type": "stream",
          "name": "stdout",
          "text": [
            "Cross-validated RMSE: 2.3598838567161406\n",
            "Test RMSE: 2.490095768654819\n",
            "Test R²: 0.12425639410122746\n"
          ]
        }
      ]
    },
    {
      "cell_type": "code",
      "source": [
        "# Predictions plot\n",
        "plt.figure(figsize=(10, 5))\n",
        "plt.scatter(y_test, y_pred, alpha=0.5)\n",
        "plt.plot([y_test.min(), y_test.max()], [y_test.min(), y_test.max()], 'k--', lw=2)\n",
        "plt.xlabel('Measured')\n",
        "plt.ylabel('Predicted')\n",
        "plt.title('Predictions vs. Actual Values')\n",
        "plt.show()"
      ],
      "metadata": {
        "colab": {
          "base_uri": "https://localhost:8080/",
          "height": 487
        },
        "id": "mOQ2-0wDf1CN",
        "outputId": "228c5d77-020c-40d7-f55c-b70ace05d7e9"
      },
      "execution_count": 46,
      "outputs": [
        {
          "output_type": "display_data",
          "data": {
            "text/plain": [
              "<Figure size 1000x500 with 1 Axes>"
            ],
            "image/png": "[encoded data removed]"
          },
          "metadata": {}
        }
      ]
    }
  ]
}