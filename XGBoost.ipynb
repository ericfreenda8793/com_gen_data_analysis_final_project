{
 "cells": [
  {
   "cell_type": "code",
   "execution_count": 13,
   "metadata": {},
   "outputs": [],
   "source": [
    "import pandas as pd\n",
    "import numpy as np\n",
    "import matplotlib.pyplot as plt\n",
    "import xgboost as xgb\n",
    "from sklearn.model_selection import train_test_split, KFold\n",
    "from sklearn.preprocessing import StandardScaler\n",
    "from sklearn.impute import SimpleImputer\n",
    "from sklearn.linear_model import LinearRegression\n",
    "from sklearn.metrics import mean_squared_error, r2_score"
   ]
  },
  {
   "cell_type": "code",
   "execution_count": 14,
   "metadata": {},
   "outputs": [],
   "source": [
    "# Load the data\n",
    "genotypes = pd.read_csv('tomatoes/Genotypic_data_maf10_min10_291acc.txt', index_col=0)\n",
    "phenotype = pd.read_csv('tomatoes/phenodata_BLUP_2012.txt', sep='\\t', index_col='ID')"
   ]
  },
  {
   "cell_type": "code",
   "execution_count": 15,
   "metadata": {},
   "outputs": [],
   "source": [
    "# Function to calculate minor allele frequency\n",
    "def calculate_maf(df):\n",
    "    maf = df.apply(lambda x: min(x.mean(), 1 - x.mean()), axis=0)\n",
    "    return maf\n",
    "\n",
    "# Function for LD pruning\n",
    "def ld_pruning(df, threshold=0.5):\n",
    "    corr = df.corr().abs()\n",
    "    upper = corr.where(np.triu(np.ones(corr.shape), k=1).astype(bool))  # Updated to use bool\n",
    "    to_drop = [column for column in upper.columns if any(upper[column] > threshold)]\n",
    "    return df.drop(to_drop, axis=1)"
   ]
  },
  {
   "cell_type": "code",
   "execution_count": 16,
   "metadata": {},
   "outputs": [],
   "source": [
    "# Split the data into training and testing sets\n",
    "X_train, X_test, y_train, y_test = train_test_split(\n",
    "    genotypes, phenotype['FREAR'], test_size=0.2, random_state=42)"
   ]
  },
  {
   "cell_type": "code",
   "execution_count": 17,
   "metadata": {},
   "outputs": [],
   "source": [
    "# Apply MAF and LD pruning only to the training set\n",
    "maf = calculate_maf(X_train)\n",
    "X_train_filtered = X_train.loc[:, maf > 0.05]  # Filter out SNPs with MAF <= 5%\n",
    "X_train_pruned = ld_pruning(X_train_filtered)"
   ]
  },
  {
   "cell_type": "code",
   "execution_count": 18,
   "metadata": {},
   "outputs": [],
   "source": [
    "# Impute missing data and scale the data\n",
    "imputer = SimpleImputer(strategy='median')\n",
    "scaler = StandardScaler()\n",
    "\n",
    "X_train_imputed = pd.DataFrame(imputer.fit_transform(X_train_pruned), columns=X_train_pruned.columns)\n",
    "X_train_scaled = pd.DataFrame(scaler.fit_transform(X_train_imputed), columns=X_train_pruned.columns)\n",
    "\n",
    "# Apply the same imputation and scaling transformations to the test set\n",
    "X_test_filtered = X_test[X_train_pruned.columns]  # Keep only the columns that survived pruning\n",
    "X_test_imputed = pd.DataFrame(imputer.transform(X_test_filtered), columns=X_train_pruned.columns)\n",
    "X_test_scaled = pd.DataFrame(scaler.transform(X_test_imputed), columns=X_train_pruned.columns)"
   ]
  },
  {
   "cell_type": "code",
   "execution_count": 29,
   "metadata": {},
   "outputs": [],
   "source": [
    "# Setup XGBoost for feature selection with cross-validation\n",
    "xgb_model = xgb.XGBRegressor(objective='reg:squarederror', random_state=42)\n",
    "\n",
    "# Define a K-Fold for cross-validation\n",
    "kf = KFold(n_splits=5, shuffle=True, random_state=42)\n",
    "\n",
    "# Array to store feature importances across folds\n",
    "feature_importances = np.zeros(X_train_scaled.shape[1])\n",
    "cv_rmse = []"
   ]
  },
  {
   "cell_type": "code",
   "execution_count": 30,
   "metadata": {},
   "outputs": [],
   "source": [
    "# Perform cross-validation\n",
    "for train_index, test_index in kf.split(X_train_scaled):\n",
    "    X_train_fold, X_test_fold = X_train_scaled.iloc[train_index], X_train_scaled.iloc[test_index]\n",
    "    y_train_fold, y_test_fold = y_train.iloc[train_index], y_train.iloc[test_index]\n",
    "    \n",
    "    # Fit XGBoost model\n",
    "    xgb_model.fit(X_train_fold, y_train_fold)\n",
    "    \n",
    "    # Predict on fold test data and calculate RMSE\n",
    "    fold_pred = xgb_model.predict(X_test_fold)\n",
    "    fold_rmse = np.sqrt(mean_squared_error(y_test_fold, fold_pred))\n",
    "    cv_rmse.append(fold_rmse)\n",
    "    \n",
    "    # Accumulate feature importances\n",
    "    feature_importances += xgb_model.feature_importances_"
   ]
  },
  {
   "cell_type": "code",
   "execution_count": 32,
   "metadata": {},
   "outputs": [],
   "source": [
    "# Average feature importances over all folds\n",
    "feature_importances /= kf.get_n_splits()\n",
    "\n",
    "# Select features using a threshold (mean importance here)\n",
    "mean_importance_threshold = np.mean(feature_importances)\n",
    "selected_features = X_train_scaled.columns[feature_importances > mean_importance_threshold]\n"
   ]
  },
  {
   "cell_type": "code",
   "execution_count": 27,
   "metadata": {},
   "outputs": [],
   "source": [
    "# Export selected features\n",
    "selected_features.to_series().to_csv('Features_selected/selected_features_xgboost.csv', index=False)"
   ]
  },
  {
   "cell_type": "code",
   "execution_count": 22,
   "metadata": {},
   "outputs": [],
   "source": [
    "# Reduce training and testing sets to selected features\n",
    "X_train_selected = X_train_scaled[selected_features]\n",
    "X_test_selected = X_test_scaled[selected_features]"
   ]
  },
  {
   "cell_type": "code",
   "execution_count": 23,
   "metadata": {},
   "outputs": [],
   "source": [
    "# Train a linear regression model using selected features\n",
    "regressor = LinearRegression()\n",
    "regressor.fit(X_train_selected, y_train)\n",
    "y_pred = regressor.predict(X_test_selected)"
   ]
  },
  {
   "cell_type": "code",
   "execution_count": 31,
   "metadata": {},
   "outputs": [
    {
     "name": "stdout",
     "output_type": "stream",
     "text": [
      "Cross-Validated RMSE:  2.2018239106832604\n",
      "Test RMSE: 2.3354068947607325\n",
      "Test R²: 0.2296820986415563\n"
     ]
    }
   ],
   "source": [
    "# Calculate RMSE and R-squared for evaluation\n",
    "# Print the cross-validated RMSE\n",
    "print(\"Cross-Validated RMSE: \", np.mean(cv_rmse))\n",
    "rmse = np.sqrt(mean_squared_error(y_test, y_pred))\n",
    "r2 = r2_score(y_test, y_pred)\n",
    "print(f'Test RMSE: {rmse}')\n",
    "print(f'Test R²: {r2}')"
   ]
  },
  {
   "cell_type": "code",
   "execution_count": 34,
   "metadata": {},
   "outputs": [
    {
     "data": {
      "image/png": "[encoded data removed]",
      "text/plain": [
       "<Figure size 720x360 with 1 Axes>"
      ]
     },
     "metadata": {
      "needs_background": "light"
     },
     "output_type": "display_data"
    }
   ],
   "source": [
    "# Visualization of predictions vs. actual outcomes\n",
    "plt.figure(figsize=(10, 5))\n",
    "plt.scatter(y_test, y_pred, alpha=0.5)\n",
    "plt.plot([y_test.min(), y_test.max()], [y_test.min(), y_test.max()], 'k--', lw=2)\n",
    "plt.xlabel('Measured')\n",
    "plt.ylabel('Predicted')\n",
    "plt.title('Predictions vs. Actual Values')\n",
    "plt.show()\n"
   ]
  }
 ],
 "metadata": {
  "kernelspec": {
   "display_name": "Python 3.10.11 64-bit (microsoft store)",
   "language": "python",
   "name": "python3"
  },
  "language_info": {
   "codemirror_mode": {
    "name": "ipython",
    "version": 3
   },
   "file_extension": ".py",
   "mimetype": "text/x-python",
   "name": "python",
   "nbconvert_exporter": "python",
   "pygments_lexer": "ipython3",
   "version": "3.10.11"
  },
  "orig_nbformat": 4,
  "vscode": {
   "interpreter": {
    "hash": "3b7e9cb8e453d6cda0fe8c8dd13f891a1f09162f0e7c66ffeae7751a7aecf00d"
   }
  }
 },
 "nbformat": 4,
 "nbformat_minor": 2
}
