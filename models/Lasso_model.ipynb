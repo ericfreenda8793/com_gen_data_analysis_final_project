{
  "cells": [
    {
      "cell_type": "code",
      "source": [
        "from google.colab import drive\n",
        "drive.mount('/content/drive')"
      ],
      "metadata": {
        "colab": {
          "base_uri": "https://localhost:8080/"
        },
        "id": "aAEiFfkKSjWw",
        "outputId": "6d684361-22a4-4bb4-b5ae-1619317fc434"
      },
      "execution_count": 1,
      "outputs": [
        {
          "output_type": "stream",
          "name": "stdout",
          "text": [
            "Mounted at /content/drive\n"
          ]
        }
      ]
    },
    {
      "cell_type": "code",
      "execution_count": 2,
      "metadata": {
        "id": "OyBwU2i_SiO6"
      },
      "outputs": [],
      "source": [
        "import pandas as pd\n",
        "from sklearn.preprocessing import StandardScaler, OneHotEncoder\n",
        "from sklearn.compose import ColumnTransformer\n",
        "from sklearn.impute import SimpleImputer\n",
        "import seaborn as sns\n",
        "import matplotlib.pyplot as plt\n",
        "import numpy as np\n",
        "from sklearn.decomposition import PCA\n",
        "import statsmodels.api as sm\n",
        "from statsmodels.regression.mixed_linear_model import MixedLM\n",
        "from sklearn.metrics.pairwise import euclidean_distances"
      ]
    },
    {
      "cell_type": "code",
      "execution_count": 3,
      "metadata": {
        "id": "mkcuOcAgSiO8"
      },
      "outputs": [],
      "source": [
        "# load in the data\n",
        "genotypes = pd.read_csv('/content/drive/My Drive/comp_gen/Genotypic_data_maf10_min10_291acc.txt', index_col=0)\n",
        "phenotype = pd.read_csv('/content/drive/My Drive/comp_gen/phenodata_BLUP_2012.txt', sep='\\t', index_col='ID')"
      ]
    },
    {
      "cell_type": "code",
      "execution_count": 4,
      "metadata": {
        "id": "YcpcapwUSiO8"
      },
      "outputs": [],
      "source": [
        "def calculate_maf(df):\n",
        "    # Calculate minor allele frequency\n",
        "    maf = df.apply(lambda x: min(x.mean(), 1-x.mean()), axis=0)\n",
        "    return maf\n",
        "\n",
        "def ld_pruning(df, threshold=0.5):\n",
        "    # Calculate correlation matrix\n",
        "    corr = df.corr()\n",
        "    # Identify pairs of SNPs with correlation greater than the threshold\n",
        "    # Avoid double removal and self-comparison (i.e., diagonal elements)\n",
        "    to_remove = set()\n",
        "    for i in range(corr.shape[0]):\n",
        "        for j in range(i+1, corr.shape[0]):\n",
        "            if corr.iloc[i, j] > threshold:\n",
        "                to_remove.add(corr.columns[j])\n",
        "    return df.drop(columns=to_remove)"
      ]
    },
    {
      "cell_type": "code",
      "execution_count": 5,
      "metadata": {
        "id": "9RWrPwHfSiO9"
      },
      "outputs": [],
      "source": [
        "# Apply MAF filtering\n",
        "maf = calculate_maf(genotypes)\n",
        "maf_threshold = 0.01  # Set MAF threshold\n",
        "genotypes_filtered = genotypes.loc[:, maf >= maf_threshold]\n",
        "\n",
        "# Apply LD pruning\n",
        "genotypes_pruned = ld_pruning(genotypes_filtered, threshold=0.5)"
      ]
    },
    {
      "cell_type": "code",
      "execution_count": 6,
      "metadata": {
        "id": "1xNUFay0SiO9"
      },
      "outputs": [],
      "source": [
        "# 'genotypes' and 'phenotype' are already loaded and aligned by their indices\n",
        "# now we check for missing data\n",
        "imputer = SimpleImputer(strategy='median')\n",
        "genotypes_imputed = pd.DataFrame(imputer.fit_transform(genotypes_pruned), columns=genotypes_pruned.columns)\n",
        "phenotype_imputed = pd.DataFrame(imputer.fit_transform(phenotype), columns=phenotype.columns)\n",
        "\n",
        "# Scale the data\n",
        "scaler = StandardScaler()\n",
        "genotypes_scaled = pd.DataFrame(scaler.fit_transform(genotypes_imputed), columns=genotypes_pruned.columns)\n",
        "\n",
        "# Check for any remaining NaNs or infinities\n",
        "genotypes_scaled = genotypes_scaled.replace([np.inf, -np.inf], np.nan).dropna(axis=1)\n",
        "phenotype_scaled = pd.DataFrame(scaler.fit_transform(phenotype_imputed), columns=phenotype.columns)"
      ]
    },
    {
      "cell_type": "code",
      "execution_count": 7,
      "metadata": {
        "colab": {
          "base_uri": "https://localhost:8080/"
        },
        "id": "ttS7lDQ7SiO9",
        "outputId": "afb6346f-2754-4a99-c62f-9fe299c108cd"
      },
      "outputs": [
        {
          "output_type": "stream",
          "name": "stdout",
          "text": [
            "Number of samples: 291\n",
            "Number of features: 243\n"
          ]
        }
      ],
      "source": [
        "# Extract the AVGROW97 column from the phenotype dataframe\n",
        "y = phenotype_scaled['AVGROW97']\n",
        "# Construct X from the genotype dataframe\n",
        "X = genotypes_scaled\n",
        "\n",
        "# Determine the number of samples (rows) and features (columns)\n",
        "num_samples, num_features = X.shape\n",
        "\n",
        "print(f\"Number of samples: {num_samples}\")\n",
        "print(f\"Number of features: {num_features}\")"
      ]
    },
    {
      "cell_type": "code",
      "execution_count": 8,
      "metadata": {
        "id": "45q2OxjFSiO-"
      },
      "outputs": [],
      "source": [
        "# Perform PCA\n",
        "pca = PCA(n_components=5)\n",
        "principal_components = pca.fit_transform(genotypes_scaled)"
      ]
    },
    {
      "cell_type": "code",
      "execution_count": 9,
      "metadata": {
        "colab": {
          "base_uri": "https://localhost:8080/",
          "height": 564
        },
        "id": "muZPISRtSiO-",
        "outputId": "8b66d6cc-0bea-44cb-8eea-7aadc119c174"
      },
      "outputs": [
        {
          "output_type": "display_data",
          "data": {
            "text/plain": [
              "<Figure size 800x600 with 1 Axes>"
            ],
            "image/png": "[encoded data removed]"
          },
          "metadata": {}
        }
      ],
      "source": [
        "# Plot explained variance by PCA components\n",
        "plt.figure(figsize=(8, 6))\n",
        "plt.plot(range(1, pca.n_components_ + 1), pca.explained_variance_ratio_.cumsum(), marker='o', linestyle='--')\n",
        "plt.title('Explained Variance by PCA Components')\n",
        "plt.xlabel('Number of Components')\n",
        "plt.ylabel('Cumulative Explained Variance')\n",
        "plt.show()"
      ]
    },
    {
      "cell_type": "markdown",
      "metadata": {
        "id": "xjqHXnkcSiO-"
      },
      "source": [
        "### Lasso Regression Feature Selection with Cross-Validation"
      ]
    },
    {
      "cell_type": "code",
      "execution_count": 10,
      "metadata": {
        "id": "LK_roTvuSiO_"
      },
      "outputs": [],
      "source": [
        "from sklearn.linear_model import LassoCV\n",
        "\n",
        "# Lasso with built-in cross-validation to choose the best alpha\n",
        "lasso = LassoCV(cv=5, random_state=0, max_iter=10000).fit(X, y)\n",
        "selected_features_lasso = np.where(lasso.coef_ != 0)[0]\n",
        "# save selected features from Lasso\n",
        "np.savetxt(\"selected_features_lasso.txt\", selected_features_lasso, fmt='%d')\n",
        "# save Lasso coefficients\n",
        "np.savetxt(\"lasso_coefficients.txt\", lasso.coef_, fmt='%f')"
      ]
    },
    {
      "cell_type": "code",
      "source": [
        "from google.colab import files\n",
        "\n",
        "# Download the files to your local system\n",
        "files.download('selected_features_lasso.txt')\n",
        "files.download('lasso_coefficients.txt')"
      ],
      "metadata": {
        "colab": {
          "base_uri": "https://localhost:8080/",
          "height": 17
        },
        "id": "YGW3yiMcYMRh",
        "outputId": "418f0105-18a8-40f7-c90b-6e35b4f85733"
      },
      "execution_count": 11,
      "outputs": [
        {
          "output_type": "display_data",
          "data": {
            "text/plain": [
              "<IPython.core.display.Javascript object>"
            ],
            "application/javascript": [
              "\n",
              "    async function download(id, filename, size) {\n",
              "      if (!google.colab.kernel.accessAllowed) {\n",
              "        return;\n",
              "      }\n",
              "      const div = document.createElement('div');\n",
              "      const label = document.createElement('label');\n",
              "      label.textContent = `Downloading \"${filename}\": `;\n",
              "      div.appendChild(label);\n",
              "      const progress = document.createElement('progress');\n",
              "      progress.max = size;\n",
              "      div.appendChild(progress);\n",
              "      document.body.appendChild(div);\n",
              "\n",
              "      const buffers = [];\n",
              "      let downloaded = 0;\n",
              "\n",
              "      const channel = await google.colab.kernel.comms.open(id);\n",
              "      // Send a message to notify the kernel that we're ready.\n",
              "      channel.send({})\n",
              "\n",
              "      for await (const message of channel.messages) {\n",
              "        // Send a message to notify the kernel that we're ready.\n",
              "        channel.send({})\n",
              "        if (message.buffers) {\n",
              "          for (const buffer of message.buffers) {\n",
              "            buffers.push(buffer);\n",
              "            downloaded += buffer.byteLength;\n",
              "            progress.value = downloaded;\n",
              "          }\n",
              "        }\n",
              "      }\n",
              "      const blob = new Blob(buffers, {type: 'application/binary'});\n",
              "      const a = document.createElement('a');\n",
              "      a.href = window.URL.createObjectURL(blob);\n",
              "      a.download = filename;\n",
              "      div.appendChild(a);\n",
              "      a.click();\n",
              "      div.remove();\n",
              "    }\n",
              "  "
            ]
          },
          "metadata": {}
        },
        {
          "output_type": "display_data",
          "data": {
            "text/plain": [
              "<IPython.core.display.Javascript object>"
            ],
            "application/javascript": [
              "download(\"download_2a3be57a-4b38-4057-a951-89b9e6f14f6e\", \"selected_features_lasso.txt\", 138)"
            ]
          },
          "metadata": {}
        },
        {
          "output_type": "display_data",
          "data": {
            "text/plain": [
              "<IPython.core.display.Javascript object>"
            ],
            "application/javascript": [
              "\n",
              "    async function download(id, filename, size) {\n",
              "      if (!google.colab.kernel.accessAllowed) {\n",
              "        return;\n",
              "      }\n",
              "      const div = document.createElement('div');\n",
              "      const label = document.createElement('label');\n",
              "      label.textContent = `Downloading \"${filename}\": `;\n",
              "      div.appendChild(label);\n",
              "      const progress = document.createElement('progress');\n",
              "      progress.max = size;\n",
              "      div.appendChild(progress);\n",
              "      document.body.appendChild(div);\n",
              "\n",
              "      const buffers = [];\n",
              "      let downloaded = 0;\n",
              "\n",
              "      const channel = await google.colab.kernel.comms.open(id);\n",
              "      // Send a message to notify the kernel that we're ready.\n",
              "      channel.send({})\n",
              "\n",
              "      for await (const message of channel.messages) {\n",
              "        // Send a message to notify the kernel that we're ready.\n",
              "        channel.send({})\n",
              "        if (message.buffers) {\n",
              "          for (const buffer of message.buffers) {\n",
              "            buffers.push(buffer);\n",
              "            downloaded += buffer.byteLength;\n",
              "            progress.value = downloaded;\n",
              "          }\n",
              "        }\n",
              "      }\n",
              "      const blob = new Blob(buffers, {type: 'application/binary'});\n",
              "      const a = document.createElement('a');\n",
              "      a.href = window.URL.createObjectURL(blob);\n",
              "      a.download = filename;\n",
              "      div.appendChild(a);\n",
              "      a.click();\n",
              "      div.remove();\n",
              "    }\n",
              "  "
            ]
          },
          "metadata": {}
        },
        {
          "output_type": "display_data",
          "data": {
            "text/plain": [
              "<IPython.core.display.Javascript object>"
            ],
            "application/javascript": [
              "download(\"download_2ae51d3c-ac7d-4e0a-a6a0-98b90bf00dc9\", \"lasso_coefficients.txt\", 2342)"
            ]
          },
          "metadata": {}
        }
      ]
    }
  ],
  "metadata": {
    "kernelspec": {
      "display_name": "Python 3",
      "name": "python3"
    },
    "language_info": {
      "codemirror_mode": {
        "name": "ipython",
        "version": 3
      },
      "file_extension": ".py",
      "mimetype": "text/x-python",
      "name": "python",
      "nbconvert_exporter": "python",
      "pygments_lexer": "ipython3",
      "version": "3.10.11"
    },
    "orig_nbformat": 4,
    "vscode": {
      "interpreter": {
        "hash": "3b7e9cb8e453d6cda0fe8c8dd13f891a1f09162f0e7c66ffeae7751a7aecf00d"
      }
    },
    "colab": {
      "provenance": []
    }
  },
  "nbformat": 4,
  "nbformat_minor": 0
}