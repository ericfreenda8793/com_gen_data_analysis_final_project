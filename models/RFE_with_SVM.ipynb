{
  "cells": [
    {
      "cell_type": "code",
      "source": [
        "from google.colab import drive\n",
        "drive.mount('/content/drive')"
      ],
      "metadata": {
        "colab": {
          "base_uri": "https://localhost:8080/"
        },
        "id": "6orXCihW8YbF",
        "outputId": "c55d91dd-f30b-42d5-d6ea-5561656d5876"
      },
      "execution_count": 1,
      "outputs": [
        {
          "output_type": "stream",
          "name": "stdout",
          "text": [
            "Mounted at /content/drive\n"
          ]
        }
      ]
    },
    {
      "cell_type": "code",
      "execution_count": 2,
      "metadata": {
        "id": "LOGgxM_Y8WrR"
      },
      "outputs": [],
      "source": [
        "import pandas as pd\n",
        "from sklearn.preprocessing import StandardScaler, OneHotEncoder\n",
        "from sklearn.compose import ColumnTransformer\n",
        "from sklearn.impute import SimpleImputer\n",
        "import seaborn as sns\n",
        "import matplotlib.pyplot as plt\n",
        "import numpy as np\n",
        "from sklearn.decomposition import PCA\n",
        "import statsmodels.api as sm\n",
        "from statsmodels.regression.mixed_linear_model import MixedLM\n",
        "from sklearn.metrics.pairwise import euclidean_distances"
      ]
    },
    {
      "cell_type": "code",
      "source": [],
      "metadata": {
        "id": "zQrD6WWj8XfM"
      },
      "execution_count": null,
      "outputs": []
    },
    {
      "cell_type": "code",
      "execution_count": 3,
      "metadata": {
        "id": "6QAoTphH8WrS"
      },
      "outputs": [],
      "source": [
        "# load in the data\n",
        "genotypes = pd.read_csv('/content/drive/My Drive/comp_gen/Genotypic_data_maf10_min10_291acc.txt', index_col=0)\n",
        "phenotype = pd.read_csv('/content/drive/My Drive/comp_gen/phenodata_BLUP_2012.txt', sep='\\t', index_col='ID')"
      ]
    },
    {
      "cell_type": "code",
      "execution_count": 4,
      "metadata": {
        "id": "8P-TBQnX8WrT"
      },
      "outputs": [],
      "source": [
        "def calculate_maf(df):\n",
        "    # Calculate minor allele frequency\n",
        "    maf = df.apply(lambda x: min(x.mean(), 1-x.mean()), axis=0)\n",
        "    return maf\n",
        "\n",
        "def ld_pruning(df, threshold=0.5):\n",
        "    # Calculate correlation matrix\n",
        "    corr = df.corr()\n",
        "    # Identify pairs of SNPs with correlation greater than the threshold\n",
        "    # Avoid double removal and self-comparison (i.e., diagonal elements)\n",
        "    to_remove = set()\n",
        "    for i in range(corr.shape[0]):\n",
        "        for j in range(i+1, corr.shape[0]):\n",
        "            if corr.iloc[i, j] > threshold:\n",
        "                to_remove.add(corr.columns[j])\n",
        "    return df.drop(columns=to_remove)"
      ]
    },
    {
      "cell_type": "code",
      "execution_count": 5,
      "metadata": {
        "id": "aOUW7rjy8WrT"
      },
      "outputs": [],
      "source": [
        "# Apply MAF filtering\n",
        "maf = calculate_maf(genotypes)\n",
        "maf_threshold = 0.01  # Set MAF threshold\n",
        "genotypes_filtered = genotypes.loc[:, maf >= maf_threshold]\n",
        "\n",
        "# Apply LD pruning\n",
        "genotypes_pruned = ld_pruning(genotypes_filtered, threshold=0.5)"
      ]
    },
    {
      "cell_type": "code",
      "execution_count": 6,
      "metadata": {
        "id": "zuA4Qd8k8WrT"
      },
      "outputs": [],
      "source": [
        "# 'genotypes' and 'phenotype' are already loaded and aligned by their indices\n",
        "# now we check for missing data\n",
        "imputer = SimpleImputer(strategy='median')\n",
        "genotypes_imputed = pd.DataFrame(imputer.fit_transform(genotypes_pruned), columns=genotypes_pruned.columns)\n",
        "phenotype_imputed = pd.DataFrame(imputer.fit_transform(phenotype), columns=phenotype.columns)\n",
        "\n",
        "# Scale the data\n",
        "scaler = StandardScaler()\n",
        "genotypes_scaled = pd.DataFrame(scaler.fit_transform(genotypes_imputed), columns=genotypes_pruned.columns)\n",
        "\n",
        "# Check for any remaining NaNs or infinities\n",
        "genotypes_scaled = genotypes_scaled.replace([np.inf, -np.inf], np.nan).dropna(axis=1)\n",
        "phenotype_scaled = pd.DataFrame(scaler.fit_transform(phenotype_imputed), columns=phenotype.columns)"
      ]
    },
    {
      "cell_type": "code",
      "execution_count": 7,
      "metadata": {
        "colab": {
          "base_uri": "https://localhost:8080/"
        },
        "id": "lu4_ywDg8WrT",
        "outputId": "5c7659bd-7e6e-4020-f76a-bfe10db67773"
      },
      "outputs": [
        {
          "output_type": "stream",
          "name": "stdout",
          "text": [
            "Number of samples: 291\n",
            "Number of features: 243\n"
          ]
        }
      ],
      "source": [
        "# Extract the AVGROW97 column from the phenotype dataframe\n",
        "y = phenotype_scaled['AVGROW97']\n",
        "# Construct X from the genotype dataframe\n",
        "X = genotypes_scaled\n",
        "\n",
        "# Determine the number of samples (rows) and features (columns)\n",
        "num_samples, num_features = X.shape\n",
        "\n",
        "print(f\"Number of samples: {num_samples}\")\n",
        "print(f\"Number of features: {num_features}\")"
      ]
    },
    {
      "cell_type": "markdown",
      "metadata": {
        "id": "_pioR1Qj8WrT"
      },
      "source": [
        "### 5. RFE with SVM and Cross-Validation"
      ]
    },
    {
      "cell_type": "code",
      "execution_count": 9,
      "metadata": {
        "id": "7Mlv6qOa8WrU"
      },
      "outputs": [],
      "source": [
        "from sklearn.feature_selection import RFECV\n",
        "from sklearn.svm import SVC\n",
        "from sklearn.preprocessing import KBinsDiscretizer\n",
        "\n",
        "est = KBinsDiscretizer(n_bins=3, encode='ordinal', strategy='uniform')\n",
        "y_binned = est.fit_transform(y.values.reshape(-1, 1)).ravel()\n",
        "\n",
        "# Recursive Feature Elimination with cross-validated selection of the best number of features\n",
        "svc = SVC(kernel=\"linear\", C=1)\n",
        "rfe = RFECV(estimator=svc, step=1, cv=5)\n",
        "rfe.fit(X, y_binned)\n",
        "selected_features_rfe = rfe.support_\n",
        "# Save selected features from RFE\n",
        "np.savetxt(\"selected_features_rfe.txt\", selected_features_rfe.astype(int), fmt='%d')"
      ]
    },
    {
      "cell_type": "code",
      "source": [
        "from google.colab import files\n",
        "\n",
        "# Download the files to your local system\n",
        "files.download('selected_features_rfe.txt')\n",
        "#files.download('gbm_importances.txt')"
      ],
      "metadata": {
        "colab": {
          "base_uri": "https://localhost:8080/",
          "height": 17
        },
        "id": "6zZgtXBLBNFH",
        "outputId": "fdb30b4a-14c1-4081-96c0-31f216e29a38"
      },
      "execution_count": 11,
      "outputs": [
        {
          "output_type": "display_data",
          "data": {
            "text/plain": [
              "<IPython.core.display.Javascript object>"
            ],
            "application/javascript": [
              "\n",
              "    async function download(id, filename, size) {\n",
              "      if (!google.colab.kernel.accessAllowed) {\n",
              "        return;\n",
              "      }\n",
              "      const div = document.createElement('div');\n",
              "      const label = document.createElement('label');\n",
              "      label.textContent = `Downloading \"${filename}\": `;\n",
              "      div.appendChild(label);\n",
              "      const progress = document.createElement('progress');\n",
              "      progress.max = size;\n",
              "      div.appendChild(progress);\n",
              "      document.body.appendChild(div);\n",
              "\n",
              "      const buffers = [];\n",
              "      let downloaded = 0;\n",
              "\n",
              "      const channel = await google.colab.kernel.comms.open(id);\n",
              "      // Send a message to notify the kernel that we're ready.\n",
              "      channel.send({})\n",
              "\n",
              "      for await (const message of channel.messages) {\n",
              "        // Send a message to notify the kernel that we're ready.\n",
              "        channel.send({})\n",
              "        if (message.buffers) {\n",
              "          for (const buffer of message.buffers) {\n",
              "            buffers.push(buffer);\n",
              "            downloaded += buffer.byteLength;\n",
              "            progress.value = downloaded;\n",
              "          }\n",
              "        }\n",
              "      }\n",
              "      const blob = new Blob(buffers, {type: 'application/binary'});\n",
              "      const a = document.createElement('a');\n",
              "      a.href = window.URL.createObjectURL(blob);\n",
              "      a.download = filename;\n",
              "      div.appendChild(a);\n",
              "      a.click();\n",
              "      div.remove();\n",
              "    }\n",
              "  "
            ]
          },
          "metadata": {}
        },
        {
          "output_type": "display_data",
          "data": {
            "text/plain": [
              "<IPython.core.display.Javascript object>"
            ],
            "application/javascript": [
              "download(\"download_5e966376-ac9f-44b3-a406-2b78b1cef213\", \"selected_features_rfe.txt\", 486)"
            ]
          },
          "metadata": {}
        }
      ]
    }
  ],
  "metadata": {
    "kernelspec": {
      "display_name": "Python 3",
      "name": "python3"
    },
    "language_info": {
      "name": "python",
      "version": "3.10.11"
    },
    "orig_nbformat": 4,
    "vscode": {
      "interpreter": {
        "hash": "3b7e9cb8e453d6cda0fe8c8dd13f891a1f09162f0e7c66ffeae7751a7aecf00d"
      }
    },
    "colab": {
      "provenance": [],
      "gpuType": "T4"
    },
    "accelerator": "GPU"
  },
  "nbformat": 4,
  "nbformat_minor": 0
}